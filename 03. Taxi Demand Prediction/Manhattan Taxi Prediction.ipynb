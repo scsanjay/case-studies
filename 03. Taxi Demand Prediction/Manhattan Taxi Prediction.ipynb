{
 "cells": [
  {
   "cell_type": "markdown",
   "id": "b4764fe9-64c8-4014-9ed3-034c97060d45",
   "metadata": {},
   "source": [
    "# Manhattan Taxi Demand Prediction"
   ]
  },
  {
   "cell_type": "markdown",
   "id": "6c0abfe9",
   "metadata": {},
   "source": [
    "# Introduction"
   ]
  },
  {
   "cell_type": "markdown",
   "id": "8f1508bc",
   "metadata": {},
   "source": [
    "The New York City Taxi and Limousine Commission (TLC)¹ created in 1971, is the agency responsible for licensing and regulating New York City's medallion (yellow) taxis, and various other taxis. The yellow taxis are the most iconic taxis of NYC, which are widely recognized outside the USA too."
   ]
  },
  {
   "cell_type": "markdown",
   "id": "3f54a453",
   "metadata": {},
   "source": [
    "Yellow medallion taxis are traditionally hailed by signaling to a driver who is on duty and seeking a passenger (street hail), but now they may also be hailed using e-hail apps."
   ]
  },
  {
   "cell_type": "markdown",
   "id": "13fe2683-aeca-4108-bafd-bf20075d67c6",
   "metadata": {},
   "source": [
    "NYC has five boroughs  Bronx, Brooklyn, Manhattan, Queens, and Staten Island. The yellow taxis are the only vehicles permitted to respond to a street hail from a passenger in all five boroughs of NYC."
   ]
  },
  {
   "cell_type": "markdown",
   "id": "5ece3250-90ca-485e-8a29-aba4268edd2c",
   "metadata": {},
   "source": [
    "Here, I will try out few models to predict the demand for only yellow taxis and only in Manhattan. Manhattan is the busiest borough of NYC by a huge margin. I started out whole NYC yellow taxi data, but later I decided to create a model for only Manhattan. I will explain why in later part of this blog."
   ]
  },
  {
   "cell_type": "markdown",
   "id": "e27f6b6e-2e99-4415-81c5-ab67391b4cae",
   "metadata": {},
   "source": [
    "# Imports"
   ]
  },
  {
   "cell_type": "code",
   "execution_count": 2,
   "id": "b9753871",
   "metadata": {},
   "outputs": [],
   "source": [
    "# set the New York timezone so that the date parsing is correct\n",
    "import os, time\n",
    "os.environ['TZ'] = 'America/New_York'\n",
    "time.tzset()"
   ]
  },
  {
   "cell_type": "code",
   "execution_count": 3,
   "id": "a4ce7c86",
   "metadata": {},
   "outputs": [],
   "source": [
    "import pandas as pd\n",
    "import numpy as np\n",
    "import seaborn as sns\n",
    "import gc\n",
    "from datetime import datetime, timedelta\n",
    "from tqdm import tqdm\n",
    "from scipy.signal import savgol_filter\n",
    "import matplotlib.pyplot as plt\n",
    "import seaborn as sns\n",
    "%matplotlib inline\n",
    "import hyperopt\n",
    "from hyperopt import fmin, tpe, hp, STATUS_OK, Trials\n",
    "from sklearn.preprocessing import MinMaxScaler\n",
    "from sklearn.linear_model import LinearRegression, SGDRegressor\n",
    "from sklearn.metrics import mean_absolute_percentage_error, mean_absolute_error, mean_squared_error, r2_score\n",
    "from joblib import dump, load\n",
    "import xgboost as xgb\n",
    "import warnings\n",
    "import tensorflow as tf\n",
    "from tensorflow import keras\n",
    "from tensorflow.keras import layers"
   ]
  },
  {
   "cell_type": "markdown",
   "id": "7cc930d3-9494-4a4c-81d9-a2a9729e5acc",
   "metadata": {},
   "source": [
    "# Business Objectives and Constraints"
   ]
  },
  {
   "cell_type": "markdown",
   "id": "9054a0e3-1f94-4b7b-b0ef-bdbc1e4397ab",
   "metadata": {},
   "source": [
    "i) Interpretability is not required. <br>\n",
    "ii) We would want latency to be less than 2 seconds.<br>\n",
    "iii) We would want less difference between actual and predicted demands."
   ]
  },
  {
   "cell_type": "markdown",
   "id": "9f07154c-523a-44b4-b160-0e48fb29a970",
   "metadata": {},
   "source": [
    "# Data Acquisition"
   ]
  },
  {
   "cell_type": "markdown",
   "id": "75fbc602-5669-4b76-bfba-e59d13d80b58",
   "metadata": {},
   "source": [
    "<p>We have collected the data from the official NYC site's TLC page¹. There you will find month and taxi type-wise data from the year 2009. \n",
    "    \n",
    "<p>I have downloaded only for years 2018 and 2019. Now you might wonder why not 2020 data? That's because year 2020 had the covid pandemic, which disrupted everything. No machine learning model will work in such high uncertainty. \n",
    "    \n",
    "<p>These types of events occur very very rarely (like once in a hundred years). In statistics, there is a term for this type of event, called the Black Swan event.\n",
    "    \n",
    "<p>The data on TLC page is very well detailed. There are many columns such as location id, pickup time, drop time, passenger count, trip cost, speed, etc. But for our problem, we will need only the location ID and the pickup time. So instead of downloading all the data, which will be huge for my mobile connection. I used Google colab as a medium to download only the relevant columns. 😎"
   ]
  },
  {
   "cell_type": "code",
   "execution_count": null,
   "id": "8b3257df-fa13-4544-9824-6176a0b22ffb",
   "metadata": {},
   "outputs": [],
   "source": [
    "# Ran on Google Colab\n",
    "'''\n",
    "for year in tqdm([2019, 2018]):\n",
    "    for month in range (1,13):\n",
    "        gc.collect()\n",
    "        filename = 'yellow_tripdata_'+str(year)+'-'+str(month).zfill(2)+'.csv'\n",
    "        df=pd.read_csv('https://s3.amazonaws.com/nyc-tlc/trip+data/'+filename, usecols=['tpep_pickup_datetime', 'PULocationID'])\n",
    "        df.to_csv('gdrive/MyDrive/ML Backup/'+filename, index=False)\n",
    "'''"
   ]
  },
  {
   "cell_type": "markdown",
   "id": "803a2800-ef8a-4334-8809-53f22e46f87b",
   "metadata": {},
   "source": [
    "# Data Formatting"
   ]
  },
  {
   "cell_type": "markdown",
   "id": "d70adf5e-e205-485d-8e00-d58f8fa0fae9",
   "metadata": {},
   "source": [
    "The data were in different csv files for every month, so I combined them. I have used data from January 2018 and till April 2019 for training (training and cross-validation)."
   ]
  },
  {
   "cell_type": "code",
   "execution_count": 3,
   "id": "9f254992",
   "metadata": {},
   "outputs": [],
   "source": [
    "traindatas = []\n",
    "for year in [2018, 2019]:\n",
    "    for month in range (1,13):\n",
    "        if year == 2018 or (year == 2019 and month <= 4):\n",
    "            gc.collect()\n",
    "            filename = 'yellow_tripdata_'+str(year)+'-'+str(month).zfill(2)+'.csv'\n",
    "            traindatas.append(pd.read_csv('data/'+filename))\n",
    "traindata = pd.concat(traindatas, ignore_index=True)\n",
    "traindata.to_csv('traindata_.csv', index=False)"
   ]
  },
  {
   "cell_type": "code",
   "execution_count": 4,
   "id": "eba2415b",
   "metadata": {},
   "outputs": [
    {
     "data": {
      "text/plain": [
       "(132757101, 2)"
      ]
     },
     "execution_count": 4,
     "metadata": {},
     "output_type": "execute_result"
    }
   ],
   "source": [
    "traindata.shape"
   ]
  },
  {
   "cell_type": "code",
   "execution_count": 5,
   "id": "1d7aaff3",
   "metadata": {},
   "outputs": [
    {
     "data": {
      "text/html": [
       "<div>\n",
       "<style scoped>\n",
       "    .dataframe tbody tr th:only-of-type {\n",
       "        vertical-align: middle;\n",
       "    }\n",
       "\n",
       "    .dataframe tbody tr th {\n",
       "        vertical-align: top;\n",
       "    }\n",
       "\n",
       "    .dataframe thead th {\n",
       "        text-align: right;\n",
       "    }\n",
       "</style>\n",
       "<table border=\"1\" class=\"dataframe\">\n",
       "  <thead>\n",
       "    <tr style=\"text-align: right;\">\n",
       "      <th></th>\n",
       "      <th>tpep_pickup_datetime</th>\n",
       "      <th>PULocationID</th>\n",
       "    </tr>\n",
       "  </thead>\n",
       "  <tbody>\n",
       "    <tr>\n",
       "      <th>0</th>\n",
       "      <td>2018-01-01 00:21:05</td>\n",
       "      <td>41</td>\n",
       "    </tr>\n",
       "    <tr>\n",
       "      <th>1</th>\n",
       "      <td>2018-01-01 00:44:55</td>\n",
       "      <td>239</td>\n",
       "    </tr>\n",
       "    <tr>\n",
       "      <th>2</th>\n",
       "      <td>2018-01-01 00:08:26</td>\n",
       "      <td>262</td>\n",
       "    </tr>\n",
       "    <tr>\n",
       "      <th>3</th>\n",
       "      <td>2018-01-01 00:20:22</td>\n",
       "      <td>140</td>\n",
       "    </tr>\n",
       "    <tr>\n",
       "      <th>4</th>\n",
       "      <td>2018-01-01 00:09:18</td>\n",
       "      <td>246</td>\n",
       "    </tr>\n",
       "  </tbody>\n",
       "</table>\n",
       "</div>"
      ],
      "text/plain": [
       "  tpep_pickup_datetime  PULocationID\n",
       "0  2018-01-01 00:21:05            41\n",
       "1  2018-01-01 00:44:55           239\n",
       "2  2018-01-01 00:08:26           262\n",
       "3  2018-01-01 00:20:22           140\n",
       "4  2018-01-01 00:09:18           246"
      ]
     },
     "execution_count": 5,
     "metadata": {},
     "output_type": "execute_result"
    }
   ],
   "source": [
    "traindata.head()"
   ]
  },
  {
   "cell_type": "code",
   "execution_count": 6,
   "id": "56123d51",
   "metadata": {},
   "outputs": [
    {
     "data": {
      "text/html": [
       "<div>\n",
       "<style scoped>\n",
       "    .dataframe tbody tr th:only-of-type {\n",
       "        vertical-align: middle;\n",
       "    }\n",
       "\n",
       "    .dataframe tbody tr th {\n",
       "        vertical-align: top;\n",
       "    }\n",
       "\n",
       "    .dataframe thead th {\n",
       "        text-align: right;\n",
       "    }\n",
       "</style>\n",
       "<table border=\"1\" class=\"dataframe\">\n",
       "  <thead>\n",
       "    <tr style=\"text-align: right;\">\n",
       "      <th></th>\n",
       "      <th>tpep_pickup_datetime</th>\n",
       "      <th>PULocationID</th>\n",
       "    </tr>\n",
       "  </thead>\n",
       "  <tbody>\n",
       "    <tr>\n",
       "      <th>132757096</th>\n",
       "      <td>2019-04-30 23:26:25</td>\n",
       "      <td>237</td>\n",
       "    </tr>\n",
       "    <tr>\n",
       "      <th>132757097</th>\n",
       "      <td>2019-04-30 23:42:44</td>\n",
       "      <td>264</td>\n",
       "    </tr>\n",
       "    <tr>\n",
       "      <th>132757098</th>\n",
       "      <td>2019-04-30 22:18:51</td>\n",
       "      <td>239</td>\n",
       "    </tr>\n",
       "    <tr>\n",
       "      <th>132757099</th>\n",
       "      <td>2019-04-30 23:05:44</td>\n",
       "      <td>264</td>\n",
       "    </tr>\n",
       "    <tr>\n",
       "      <th>132757100</th>\n",
       "      <td>2019-04-30 23:07:48</td>\n",
       "      <td>193</td>\n",
       "    </tr>\n",
       "  </tbody>\n",
       "</table>\n",
       "</div>"
      ],
      "text/plain": [
       "          tpep_pickup_datetime  PULocationID\n",
       "132757096  2019-04-30 23:26:25           237\n",
       "132757097  2019-04-30 23:42:44           264\n",
       "132757098  2019-04-30 22:18:51           239\n",
       "132757099  2019-04-30 23:05:44           264\n",
       "132757100  2019-04-30 23:07:48           193"
      ]
     },
     "execution_count": 6,
     "metadata": {},
     "output_type": "execute_result"
    }
   ],
   "source": [
    "traindata.tail()"
   ]
  },
  {
   "cell_type": "code",
   "execution_count": 7,
   "id": "e9868551",
   "metadata": {},
   "outputs": [
    {
     "data": {
      "text/plain": [
       "0"
      ]
     },
     "execution_count": 7,
     "metadata": {},
     "output_type": "execute_result"
    }
   ],
   "source": [
    "traindata.PULocationID.isnull().sum()"
   ]
  },
  {
   "cell_type": "code",
   "execution_count": 21,
   "id": "8b9d7036",
   "metadata": {},
   "outputs": [
    {
     "data": {
      "text/plain": [
       "264"
      ]
     },
     "execution_count": 21,
     "metadata": {},
     "output_type": "execute_result"
    }
   ],
   "source": [
    "len(traindata.PULocationID.unique())"
   ]
  },
  {
   "cell_type": "code",
   "execution_count": 9,
   "id": "ba642820",
   "metadata": {},
   "outputs": [
    {
     "data": {
      "text/plain": [
       "array([  1,   2,   3,   4,   5,   6,   7,   8,   9,  10,  11,  12,  13,\n",
       "        14,  15,  16,  17,  18,  19,  20,  21,  22,  23,  24,  25,  26,\n",
       "        27,  28,  29,  30,  31,  32,  33,  34,  35,  36,  37,  38,  39,\n",
       "        40,  41,  42,  43,  44,  45,  46,  47,  48,  49,  50,  51,  52,\n",
       "        53,  54,  55,  56,  57,  58,  59,  60,  61,  62,  63,  64,  65,\n",
       "        66,  67,  68,  69,  70,  71,  72,  73,  74,  75,  76,  77,  78,\n",
       "        79,  80,  81,  82,  83,  84,  85,  86,  87,  88,  89,  90,  91,\n",
       "        92,  93,  94,  95,  96,  97,  98,  99, 100, 101, 102, 104, 105,\n",
       "       106, 107, 108, 109, 110, 111, 112, 113, 114, 115, 116, 117, 118,\n",
       "       119, 120, 121, 122, 123, 124, 125, 126, 127, 128, 129, 130, 131,\n",
       "       132, 133, 134, 135, 136, 137, 138, 139, 140, 141, 142, 143, 144,\n",
       "       145, 146, 147, 148, 149, 150, 151, 152, 153, 154, 155, 156, 157,\n",
       "       158, 159, 160, 161, 162, 163, 164, 165, 166, 167, 168, 169, 170,\n",
       "       171, 172, 173, 174, 175, 176, 177, 178, 179, 180, 181, 182, 183,\n",
       "       184, 185, 186, 187, 188, 189, 190, 191, 192, 193, 194, 195, 196,\n",
       "       197, 198, 199, 200, 201, 202, 203, 204, 205, 206, 207, 208, 209,\n",
       "       210, 211, 212, 213, 214, 215, 216, 217, 218, 219, 220, 221, 222,\n",
       "       223, 224, 225, 226, 227, 228, 229, 230, 231, 232, 233, 234, 235,\n",
       "       236, 237, 238, 239, 240, 241, 242, 243, 244, 245, 246, 247, 248,\n",
       "       249, 250, 251, 252, 253, 254, 255, 256, 257, 258, 259, 260, 261,\n",
       "       262, 263, 264, 265])"
      ]
     },
     "execution_count": 9,
     "metadata": {},
     "output_type": "execute_result"
    }
   ],
   "source": [
    "np.sort(traindata.PULocationID.unique())"
   ]
  },
  {
   "cell_type": "markdown",
   "id": "4f1e6b91-b75c-483a-8dd6-4de6222e485f",
   "metadata": {},
   "source": [
    "We have 132,757,101 pickups from 264 unique locations in this period of 16 months. The TLC has divided the whole NYC into 266 regions with location id ranging from 1 to 266."
   ]
  },
  {
   "cell_type": "code",
   "execution_count": 10,
   "id": "9c5cb5ff",
   "metadata": {},
   "outputs": [
    {
     "data": {
      "text/plain": [
       "0"
      ]
     },
     "execution_count": 10,
     "metadata": {},
     "output_type": "execute_result"
    }
   ],
   "source": [
    "traindata.tpep_pickup_datetime.isnull().sum()"
   ]
  },
  {
   "cell_type": "markdown",
   "id": "dbb62af2-e3d5-4608-b1ae-71deaaed9b41",
   "metadata": {},
   "source": [
    "<b>Applying some hack which will speed up generation of training data.</b>"
   ]
  },
  {
   "cell_type": "code",
   "execution_count": 4,
   "id": "671ae216",
   "metadata": {},
   "outputs": [
    {
     "name": "stderr",
     "output_type": "stream",
     "text": [
      "100%|█████████████████████████| 132757101/132757101 [20:36<00:00, 107383.56it/s]\n"
     ]
    }
   ],
   "source": [
    "year = []\n",
    "month = []\n",
    "day = []\n",
    "timestamp = []\n",
    "for date in tqdm(traindata.tpep_pickup_datetime.values):\n",
    "    date = datetime.strptime(date, \"%Y-%m-%d %H:%M:%S\")\n",
    "    year.append(date.year)\n",
    "    month.append(date.month)    \n",
    "    day.append(date.day)  \n",
    "    timestamp.append(int(datetime.timestamp(date)))"
   ]
  },
  {
   "cell_type": "code",
   "execution_count": 5,
   "id": "3a5f46d8-6dcc-4ec8-8011-cc149d20317f",
   "metadata": {},
   "outputs": [],
   "source": [
    "# converted datetime to timestamp\n",
    "traindata['timestamp'] = traindata.tpep_pickup_datetime.apply(\n",
    "                            lambda x: int(datetime.timestamp(datetime.strptime(x, \"%Y-%m-%d %H:%M:%S\")))\n",
    "                        )"
   ]
  },
  {
   "cell_type": "code",
   "execution_count": 9,
   "id": "eba2cd04-5cd2-46be-be55-71df75ebcb03",
   "metadata": {},
   "outputs": [],
   "source": [
    "# got the month number, which will help in filtering out data while counting\n",
    "traindata['month'] = traindata.tpep_pickup_datetime.apply(\n",
    "                        lambda x: datetime.strptime(x, \"%Y-%m-%d %H:%M:%S\").month\n",
    "                    )"
   ]
  },
  {
   "cell_type": "code",
   "execution_count": 10,
   "id": "423b853b-694c-41c5-a7df-35bfeab18d34",
   "metadata": {},
   "outputs": [],
   "source": [
    "# got the day number, which will help in filtering out data while counting\n",
    "traindata['day'] = traindata.tpep_pickup_datetime.apply(\n",
    "                        lambda x: datetime.strptime(x, \"%Y-%m-%d %H:%M:%S\").day\n",
    "                    )"
   ]
  },
  {
   "cell_type": "code",
   "execution_count": 15,
   "id": "742e80b5-beec-4ec9-ba69-f3a838e6cf1e",
   "metadata": {},
   "outputs": [],
   "source": [
    "traindata.drop(columns='tpep_pickup_datetime', inplace=True)"
   ]
  },
  {
   "cell_type": "code",
   "execution_count": 18,
   "id": "c2ee22a1-e111-4995-bc0e-6fed42f041a8",
   "metadata": {},
   "outputs": [
    {
     "data": {
      "text/html": [
       "<div>\n",
       "<style scoped>\n",
       "    .dataframe tbody tr th:only-of-type {\n",
       "        vertical-align: middle;\n",
       "    }\n",
       "\n",
       "    .dataframe tbody tr th {\n",
       "        vertical-align: top;\n",
       "    }\n",
       "\n",
       "    .dataframe thead th {\n",
       "        text-align: right;\n",
       "    }\n",
       "</style>\n",
       "<table border=\"1\" class=\"dataframe\">\n",
       "  <thead>\n",
       "    <tr style=\"text-align: right;\">\n",
       "      <th></th>\n",
       "      <th>PULocationID</th>\n",
       "      <th>timestamp</th>\n",
       "      <th>month</th>\n",
       "      <th>day</th>\n",
       "    </tr>\n",
       "  </thead>\n",
       "  <tbody>\n",
       "    <tr>\n",
       "      <th>0</th>\n",
       "      <td>41</td>\n",
       "      <td>1514784065</td>\n",
       "      <td>1</td>\n",
       "      <td>1</td>\n",
       "    </tr>\n",
       "    <tr>\n",
       "      <th>1</th>\n",
       "      <td>239</td>\n",
       "      <td>1514785495</td>\n",
       "      <td>1</td>\n",
       "      <td>1</td>\n",
       "    </tr>\n",
       "    <tr>\n",
       "      <th>2</th>\n",
       "      <td>262</td>\n",
       "      <td>1514783306</td>\n",
       "      <td>1</td>\n",
       "      <td>1</td>\n",
       "    </tr>\n",
       "    <tr>\n",
       "      <th>3</th>\n",
       "      <td>140</td>\n",
       "      <td>1514784022</td>\n",
       "      <td>1</td>\n",
       "      <td>1</td>\n",
       "    </tr>\n",
       "    <tr>\n",
       "      <th>4</th>\n",
       "      <td>246</td>\n",
       "      <td>1514783358</td>\n",
       "      <td>1</td>\n",
       "      <td>1</td>\n",
       "    </tr>\n",
       "  </tbody>\n",
       "</table>\n",
       "</div>"
      ],
      "text/plain": [
       "   PULocationID   timestamp  month  day\n",
       "0            41  1514784065      1    1\n",
       "1           239  1514785495      1    1\n",
       "2           262  1514783306      1    1\n",
       "3           140  1514784022      1    1\n",
       "4           246  1514783358      1    1"
      ]
     },
     "execution_count": 18,
     "metadata": {},
     "output_type": "execute_result"
    }
   ],
   "source": [
    "traindata.head()"
   ]
  },
  {
   "cell_type": "code",
   "execution_count": 16,
   "id": "3ad8b1ff-9f16-4857-8b90-ecb6ff4af002",
   "metadata": {},
   "outputs": [
    {
     "data": {
      "text/html": [
       "<div>\n",
       "<style scoped>\n",
       "    .dataframe tbody tr th:only-of-type {\n",
       "        vertical-align: middle;\n",
       "    }\n",
       "\n",
       "    .dataframe tbody tr th {\n",
       "        vertical-align: top;\n",
       "    }\n",
       "\n",
       "    .dataframe thead th {\n",
       "        text-align: right;\n",
       "    }\n",
       "</style>\n",
       "<table border=\"1\" class=\"dataframe\">\n",
       "  <thead>\n",
       "    <tr style=\"text-align: right;\">\n",
       "      <th></th>\n",
       "      <th>PULocationID</th>\n",
       "      <th>timestamp</th>\n",
       "      <th>month</th>\n",
       "      <th>day</th>\n",
       "    </tr>\n",
       "  </thead>\n",
       "  <tbody>\n",
       "    <tr>\n",
       "      <th>132757096</th>\n",
       "      <td>237</td>\n",
       "      <td>1556681185</td>\n",
       "      <td>4</td>\n",
       "      <td>30</td>\n",
       "    </tr>\n",
       "    <tr>\n",
       "      <th>132757097</th>\n",
       "      <td>264</td>\n",
       "      <td>1556682164</td>\n",
       "      <td>4</td>\n",
       "      <td>30</td>\n",
       "    </tr>\n",
       "    <tr>\n",
       "      <th>132757098</th>\n",
       "      <td>239</td>\n",
       "      <td>1556677131</td>\n",
       "      <td>4</td>\n",
       "      <td>30</td>\n",
       "    </tr>\n",
       "    <tr>\n",
       "      <th>132757099</th>\n",
       "      <td>264</td>\n",
       "      <td>1556679944</td>\n",
       "      <td>4</td>\n",
       "      <td>30</td>\n",
       "    </tr>\n",
       "    <tr>\n",
       "      <th>132757100</th>\n",
       "      <td>193</td>\n",
       "      <td>1556680068</td>\n",
       "      <td>4</td>\n",
       "      <td>30</td>\n",
       "    </tr>\n",
       "  </tbody>\n",
       "</table>\n",
       "</div>"
      ],
      "text/plain": [
       "           PULocationID   timestamp  month  day\n",
       "132757096           237  1556681185      4   30\n",
       "132757097           264  1556682164      4   30\n",
       "132757098           239  1556677131      4   30\n",
       "132757099           264  1556679944      4   30\n",
       "132757100           193  1556680068      4   30"
      ]
     },
     "execution_count": 16,
     "metadata": {},
     "output_type": "execute_result"
    }
   ],
   "source": [
    "traindata.tail()"
   ]
  },
  {
   "cell_type": "code",
   "execution_count": 17,
   "id": "8ef84282-7b00-451e-8d06-984b1d2e5356",
   "metadata": {},
   "outputs": [],
   "source": [
    "# traindata.to_csv('traindata3.csv', index=False)"
   ]
  },
  {
   "cell_type": "code",
   "execution_count": 4,
   "id": "de73f7e7-ade8-4d85-8464-33dbdae4b9cd",
   "metadata": {},
   "outputs": [],
   "source": [
    "# traindata = pd.read_csv('traindata3.csv')"
   ]
  },
  {
   "cell_type": "code",
   "execution_count": 5,
   "id": "8565d848-e8d4-45ad-8a28-18eb12682b18",
   "metadata": {},
   "outputs": [],
   "source": [
    "# we need to group by since we will be couting per location\n",
    "traindataGrouped = traindata.groupby('PULocationID')"
   ]
  },
  {
   "cell_type": "code",
   "execution_count": null,
   "id": "53d7d71b",
   "metadata": {},
   "outputs": [],
   "source": [
    "data = []\n",
    "i=0\n",
    "# iterate for each locations\n",
    "for group_name in tqdm(traindataGrouped.groups.keys()):   \n",
    "    startdate = '2018-01-01 00:00:00';\n",
    "    startdate = datetime.strptime(startdate, \"%Y-%m-%d %H:%M:%S\")\n",
    "    tempdata = traindataGrouped.get_group(group_name)\n",
    "    # iterate for each 15 minutes\n",
    "    while startdate < datetime.strptime('2019-04-30 23:59:59', \"%Y-%m-%d %H:%M:%S\"):\n",
    "        enddate = startdate + timedelta(minutes=15)\n",
    "        startdate_timestamp = int(datetime.timestamp(startdate))\n",
    "        enddate_timestamp = int(datetime.timestamp(enddate))\n",
    "        month = startdate.month\n",
    "        day = startdate.day\n",
    "        # filter based on month and day\n",
    "        tempdata1 = tempdata.loc[(tempdata['month']==month) & (tempdata['day']==day), ['timestamp']]\n",
    "        # count number of pickups in given 15 minutes\n",
    "        count = len(tempdata1.query('timestamp >= '+str(startdate_timestamp)+' ' \\\n",
    "                           + 'and timestamp < '+str(enddate_timestamp)))\n",
    "        data.append((group_name, startdate_timestamp, count))\n",
    "        # update startdate by 15 minutes\n",
    "        startdate = enddate"
   ]
  },
  {
   "cell_type": "code",
   "execution_count": 31,
   "id": "ae70f337-8e9e-4417-a2e9-cba6f10955db",
   "metadata": {},
   "outputs": [],
   "source": [
    "traindata = pd.DataFrame(data, columns=['location', 'timestamp', 'counts'])"
   ]
  },
  {
   "cell_type": "code",
   "execution_count": 33,
   "id": "73c52c14-8ce4-4dfe-99af-804f5190b09e",
   "metadata": {},
   "outputs": [],
   "source": [
    "#data.to_csv('traindata4.csv', index=False)"
   ]
  },
  {
   "cell_type": "code",
   "execution_count": null,
   "id": "f140a127-38d7-4188-bd9e-b0832f915e9f",
   "metadata": {},
   "outputs": [],
   "source": [
    "# traindata = pd.read_csv('traindata4.csv')"
   ]
  },
  {
   "cell_type": "code",
   "execution_count": 17,
   "id": "5c0c16f3-4d7b-4c21-ba1c-2e5068a6dbb3",
   "metadata": {},
   "outputs": [
    {
     "data": {
      "text/plain": [
       "(12289928, 3)"
      ]
     },
     "execution_count": 17,
     "metadata": {},
     "output_type": "execute_result"
    }
   ],
   "source": [
    "traindata.shape"
   ]
  },
  {
   "cell_type": "markdown",
   "id": "2da72045-ee3e-4520-aa23-9435bc12c00e",
   "metadata": {},
   "source": [
    "<p>The first timestamp 1514782800 corresponds to 2018–01–01 00:00 AM. And the second timestamp 1514783700 corresponds to 2018–01–01 00:15 AM and so on.\n",
    "    \n",
    "<p>Let's see how I calculated the counts. Let's take the first row for example. The location id is 1 and the timestamp is 1514782800. So I have counted the number of pickups from location id 1 between 2018–01–01 00:00 AM and 2018–01–01 00:14 AM. \n",
    "Similarly for the next row, I have counted the number of pickups from location id 1 between 2018–01–01 00:15 AM and 2018–01–01 00:29 AM.\n",
    "    \n",
    "<p><b>The location and the timestamp are input variables and the count is the output variable.</b> So the task is to predict the number of pickups in 15 minutes duration given a location id and time, which will be multiple of 15 minutes."
   ]
  },
  {
   "cell_type": "code",
   "execution_count": 18,
   "id": "f3961697-ed10-4697-86e9-64f7c3a3139b",
   "metadata": {},
   "outputs": [
    {
     "data": {
      "text/html": [
       "<div>\n",
       "<style scoped>\n",
       "    .dataframe tbody tr th:only-of-type {\n",
       "        vertical-align: middle;\n",
       "    }\n",
       "\n",
       "    .dataframe tbody tr th {\n",
       "        vertical-align: top;\n",
       "    }\n",
       "\n",
       "    .dataframe thead th {\n",
       "        text-align: right;\n",
       "    }\n",
       "</style>\n",
       "<table border=\"1\" class=\"dataframe\">\n",
       "  <thead>\n",
       "    <tr style=\"text-align: right;\">\n",
       "      <th></th>\n",
       "      <th>location</th>\n",
       "      <th>timestamp</th>\n",
       "      <th>counts</th>\n",
       "    </tr>\n",
       "  </thead>\n",
       "  <tbody>\n",
       "    <tr>\n",
       "      <th>0</th>\n",
       "      <td>1</td>\n",
       "      <td>1514782800</td>\n",
       "      <td>0</td>\n",
       "    </tr>\n",
       "    <tr>\n",
       "      <th>1</th>\n",
       "      <td>1</td>\n",
       "      <td>1514783700</td>\n",
       "      <td>0</td>\n",
       "    </tr>\n",
       "    <tr>\n",
       "      <th>2</th>\n",
       "      <td>1</td>\n",
       "      <td>1514784600</td>\n",
       "      <td>0</td>\n",
       "    </tr>\n",
       "    <tr>\n",
       "      <th>3</th>\n",
       "      <td>1</td>\n",
       "      <td>1514785500</td>\n",
       "      <td>0</td>\n",
       "    </tr>\n",
       "    <tr>\n",
       "      <th>4</th>\n",
       "      <td>1</td>\n",
       "      <td>1514786400</td>\n",
       "      <td>0</td>\n",
       "    </tr>\n",
       "  </tbody>\n",
       "</table>\n",
       "</div>"
      ],
      "text/plain": [
       "   location   timestamp  counts\n",
       "0         1  1514782800       0\n",
       "1         1  1514783700       0\n",
       "2         1  1514784600       0\n",
       "3         1  1514785500       0\n",
       "4         1  1514786400       0"
      ]
     },
     "execution_count": 18,
     "metadata": {},
     "output_type": "execute_result"
    }
   ],
   "source": [
    "traindata.head()"
   ]
  },
  {
   "cell_type": "code",
   "execution_count": 19,
   "id": "48dd347c-d0fa-4908-be6e-7777ad8844b3",
   "metadata": {},
   "outputs": [
    {
     "data": {
      "text/html": [
       "<div>\n",
       "<style scoped>\n",
       "    .dataframe tbody tr th:only-of-type {\n",
       "        vertical-align: middle;\n",
       "    }\n",
       "\n",
       "    .dataframe tbody tr th {\n",
       "        vertical-align: top;\n",
       "    }\n",
       "\n",
       "    .dataframe thead th {\n",
       "        text-align: right;\n",
       "    }\n",
       "</style>\n",
       "<table border=\"1\" class=\"dataframe\">\n",
       "  <thead>\n",
       "    <tr style=\"text-align: right;\">\n",
       "      <th></th>\n",
       "      <th>location</th>\n",
       "      <th>timestamp</th>\n",
       "      <th>counts</th>\n",
       "    </tr>\n",
       "  </thead>\n",
       "  <tbody>\n",
       "    <tr>\n",
       "      <th>12293900</th>\n",
       "      <td>265</td>\n",
       "      <td>1556678700</td>\n",
       "      <td>3</td>\n",
       "    </tr>\n",
       "    <tr>\n",
       "      <th>12293901</th>\n",
       "      <td>265</td>\n",
       "      <td>1556679600</td>\n",
       "      <td>5</td>\n",
       "    </tr>\n",
       "    <tr>\n",
       "      <th>12293902</th>\n",
       "      <td>265</td>\n",
       "      <td>1556680500</td>\n",
       "      <td>1</td>\n",
       "    </tr>\n",
       "    <tr>\n",
       "      <th>12293903</th>\n",
       "      <td>265</td>\n",
       "      <td>1556681400</td>\n",
       "      <td>2</td>\n",
       "    </tr>\n",
       "    <tr>\n",
       "      <th>12293904</th>\n",
       "      <td>265</td>\n",
       "      <td>1556682300</td>\n",
       "      <td>2</td>\n",
       "    </tr>\n",
       "  </tbody>\n",
       "</table>\n",
       "</div>"
      ],
      "text/plain": [
       "          location   timestamp  counts\n",
       "12293900       265  1556678700       3\n",
       "12293901       265  1556679600       5\n",
       "12293902       265  1556680500       1\n",
       "12293903       265  1556681400       2\n",
       "12293904       265  1556682300       2"
      ]
     },
     "execution_count": 19,
     "metadata": {},
     "output_type": "execute_result"
    }
   ],
   "source": [
    "traindata.tail()"
   ]
  },
  {
   "cell_type": "markdown",
   "id": "28748a96-ac4e-4be7-9d18-db4f8784dba7",
   "metadata": {},
   "source": [
    "# Business Metrics"
   ]
  },
  {
   "cell_type": "markdown",
   "id": "2457395d-21a3-4685-b191-18cc935d808b",
   "metadata": {},
   "source": [
    "1. We will use MAE (mean absolute error) as a primary performance measure.\n",
    "2. With MAE we also need to check the average of the output. Why? Because MAE alone is not enough. \n",
    "   <br>Suppose someone says that the MAE is 10 then it is good if the average output is 100 or 500 (problem specific) but it is not good if the average output is 10.\n",
    "3. We will also see MAE% which is MAE/avg(y) . Which combination of above two.\n",
    "4. RMSE is also a good measure, which we will track.\n",
    "5. I have also checked R² error for sanity check.\n",
    "\n",
    "Note we have not used MAPE. Because we have lots of outputs as zero or very small. MAPE becomes very large if we have lots of outputs as zero."
   ]
  },
  {
   "cell_type": "markdown",
   "id": "ea060a28-2e8d-4d23-b35d-23965ef93912",
   "metadata": {},
   "source": [
    "# Data Cleaning"
   ]
  },
  {
   "cell_type": "markdown",
   "id": "7e52f4a1-356e-4f82-88e4-04a418eb7d8a",
   "metadata": {},
   "source": [
    "## Smoothing"
   ]
  },
  {
   "cell_type": "markdown",
   "id": "e92a7e73-96fb-42c9-b45e-efd1a863b58b",
   "metadata": {},
   "source": [
    "The counts are very jagged. To make it sensible for the training we have to make it a little bit smoother."
   ]
  },
  {
   "cell_type": "code",
   "execution_count": 6,
   "id": "00c3b084-d2f8-4343-a766-5e3c61aa0f9d",
   "metadata": {},
   "outputs": [],
   "source": [
    "x = traindata[traindata.location==4].counts.values[:100]"
   ]
  },
  {
   "cell_type": "markdown",
   "id": "fb176131-e86b-41fb-a551-885c5e21ccdf",
   "metadata": {},
   "source": [
    "For smoothing, we have used counts of 5 time interval's (t0, t+1, t+2, t-1, t-2). The formula we have used is <b>x[t-2]\\*.05 + x[t-1]\\*.20 + x[t]\\*.50 + x[t+1]\\*.20 + x[t+2]\\*.05</b>"
   ]
  },
  {
   "cell_type": "code",
   "execution_count": 7,
   "id": "354706c4-4d82-42b1-9378-47de5883e066",
   "metadata": {},
   "outputs": [],
   "source": [
    "def smoothing(x):\n",
    "    n = len(x)\n",
    "    r = []\n",
    "    for i in range(n):\n",
    "        if i==0:\n",
    "            r.append(x[i]*.7 + x[i+1]*.3)\n",
    "        elif i==1:\n",
    "            r.append(x[i]*.6 + x[i+1]*.3 + x[i+2]*.1)\n",
    "        elif i==n-1:\n",
    "            r.append(x[i-1]*.3 + x[i]*.7)\n",
    "        elif i==n-2:\n",
    "            r.append(x[i-2]*.1 + x[i-1]*.3 + x[i]*.6)\n",
    "        else:\n",
    "            r.append(x[i-2]*.05 + x[i-1]*.2 + x[i]*.5 + x[i+1]*.2 + x[i+2]*.05)\n",
    "    return np.round(np.array(r), 2)"
   ]
  },
  {
   "cell_type": "code",
   "execution_count": 8,
   "id": "912723a4-6445-48ea-82bd-07e092491fff",
   "metadata": {},
   "outputs": [
    {
     "data": {
      "image/png": "[encoded data removed]",
      "text/plain": [
       "<Figure size 1152x576 with 1 Axes>"
      ]
     },
     "metadata": {
      "needs_background": "light"
     },
     "output_type": "display_data"
    }
   ],
   "source": [
    "plt.figure(figsize=(16,8))\n",
    "plt.plot(x)\n",
    "plt.plot(smoothing(x), color='green')\n",
    "plt.grid()\n",
    "plt.show()"
   ]
  },
  {
   "cell_type": "markdown",
   "id": "062b6970-3a36-43e3-afe6-eb950d21fef1",
   "metadata": {},
   "source": [
    "The blue line represents the original counts for a day. The green line represents the smoothed counts."
   ]
  },
  {
   "cell_type": "code",
   "execution_count": 203,
   "id": "65e0ec28-a24e-4272-9a7e-52e70857c439",
   "metadata": {},
   "outputs": [],
   "source": [
    "# there are some duplicates which need to be removed\n",
    "traindata.drop_duplicates(subset={'location','timestamp'}, keep='first', inplace=True)"
   ]
  },
  {
   "cell_type": "code",
   "execution_count": 204,
   "id": "ac0cf0d8-add4-45b1-bf33-499af18cd972",
   "metadata": {},
   "outputs": [
    {
     "data": {
      "text/plain": [
       "46552.0"
      ]
     },
     "execution_count": 204,
     "metadata": {},
     "output_type": "execute_result"
    }
   ],
   "source": [
    "len(traindata.location.values)/len(traindata.location.unique())"
   ]
  },
  {
   "cell_type": "code",
   "execution_count": 10,
   "id": "ca2739ad-d801-42e6-9118-495d1ce4d37e",
   "metadata": {},
   "outputs": [
    {
     "data": {
      "text/plain": [
       "(12289728, 3)"
      ]
     },
     "execution_count": 10,
     "metadata": {},
     "output_type": "execute_result"
    }
   ],
   "source": [
    "traindata.shape"
   ]
  },
  {
   "cell_type": "code",
   "execution_count": 205,
   "id": "b88759b9-9572-4701-99d6-bd7fe3641886",
   "metadata": {},
   "outputs": [
    {
     "data": {
      "text/plain": [
       "True"
      ]
     },
     "execution_count": 205,
     "metadata": {},
     "output_type": "execute_result"
    }
   ],
   "source": [
    "# already sorted a/c to location\n",
    "np.all(traindata.location.values==np.sort(traindata.location.values))"
   ]
  },
  {
   "cell_type": "code",
   "execution_count": 11,
   "id": "ffa445f9-726e-4c52-9568-f7f28dd87422",
   "metadata": {},
   "outputs": [
    {
     "name": "stderr",
     "output_type": "stream",
     "text": [
      "100%|█████████████████████████████████████████| 264/264 [01:51<00:00,  2.36it/s]\n"
     ]
    }
   ],
   "source": [
    "x = []\n",
    "for i in tqdm(np.sort(traindata.location.unique())):\n",
    "    x.extend(smoothing(traindata[traindata.location == i]['counts'].values))"
   ]
  },
  {
   "cell_type": "code",
   "execution_count": 12,
   "id": "e92485b2-f436-43dd-bc4d-65f0c6089723",
   "metadata": {},
   "outputs": [],
   "source": [
    "traindata['counts'] = x"
   ]
  },
  {
   "cell_type": "markdown",
   "id": "35dc77dd-12ce-4579-af30-db0c047af109",
   "metadata": {},
   "source": [
    "We will do the smoothing only for the training data."
   ]
  },
  {
   "cell_type": "markdown",
   "id": "a360d209-0f8e-434d-869d-53c037dfce66",
   "metadata": {},
   "source": [
    "For testing, I will not perform smoothing just to get an idea of the real world's performance."
   ]
  },
  {
   "cell_type": "markdown",
   "id": "d111e2ec-4738-424d-af75-a08387281460",
   "metadata": {},
   "source": [
    "## Only for Manhattan"
   ]
  },
  {
   "cell_type": "markdown",
   "id": "0402f00a-b79f-4625-b37d-2b1a1556ecf2",
   "metadata": {},
   "source": [
    "<p>We will use only the Manhattan data. Because Manhattan is a very busy city. And the data of Manhattan is very different from other areas because there are fewer pickups.\n",
    "<p>In this case, instead of building a single model, we can create different models to get better performance. However, here I will create model for Manhattan only."
   ]
  },
  {
   "cell_type": "code",
   "execution_count": 14,
   "id": "2e7fd080-596f-46d5-8689-12a879f5eb74",
   "metadata": {},
   "outputs": [],
   "source": [
    "zones = pd.read_csv('taxi+_zone_lookup.csv')\n",
    "manhattan_loc = zones[zones.Borough=='Manhattan'].LocationID.values"
   ]
  },
  {
   "cell_type": "code",
   "execution_count": 17,
   "id": "3a3bfb18-bbe5-43a8-ac7a-d636d30719f8",
   "metadata": {},
   "outputs": [],
   "source": [
    "# Use only Manhattan data\n",
    "traindata = traindata[traindata.location.isin(manhattan_loc)]"
   ]
  },
  {
   "cell_type": "code",
   "execution_count": 19,
   "id": "d6a45776-4218-451e-8dcf-14735f67e294",
   "metadata": {},
   "outputs": [],
   "source": [
    "#traindata.to_csv('traindata5.csv', index=False)"
   ]
  },
  {
   "cell_type": "code",
   "execution_count": 20,
   "id": "c2260046-5897-44d8-a5a6-4961013b10f2",
   "metadata": {},
   "outputs": [
    {
     "data": {
      "text/plain": [
       "array([  4,  12,  13,  24,  41,  42,  43,  45,  48,  50,  68,  74,  75,\n",
       "        79,  87,  88,  90, 100, 104, 105, 107, 113, 114, 116, 120, 125,\n",
       "       127, 128, 137, 140, 141, 142, 143, 144, 148, 151, 152, 153, 158,\n",
       "       161, 162, 163, 164, 166, 170, 186, 194, 202, 209, 211, 224, 229,\n",
       "       230, 231, 232, 233, 234, 236, 237, 238, 239, 243, 244, 246, 249,\n",
       "       261, 262, 263])"
      ]
     },
     "execution_count": 20,
     "metadata": {},
     "output_type": "execute_result"
    }
   ],
   "source": [
    "traindata.location.unique()"
   ]
  },
  {
   "cell_type": "code",
   "execution_count": 21,
   "id": "60610783-51d8-4b11-9912-8c1ea32181d2",
   "metadata": {},
   "outputs": [
    {
     "data": {
      "text/plain": [
       "68"
      ]
     },
     "execution_count": 21,
     "metadata": {},
     "output_type": "execute_result"
    }
   ],
   "source": [
    "len(traindata.location.unique())"
   ]
  },
  {
   "cell_type": "markdown",
   "id": "de856e15-81aa-432c-a85b-e20702a68b96",
   "metadata": {},
   "source": [
    "We will use only the Manhattan data. Because Manhattan is a very busy city. And the data of Manhattan is very different from other areas because there are fewer pickups.<p>\n",
    "Out of 132 million pickups, Manhattan has 120 million pickups. The other four boroughs have only 12 million pickups.<p>\n",
    "In this case, instead of building a single model, we can create different models to get better performance. However, here I will create model for Manhattan only.<p>\n",
    "In our training data, we have 68 locations that belong to Manhattan."
   ]
  },
  {
   "cell_type": "markdown",
   "id": "6173dc1f-7955-4116-b46f-429c010f2535",
   "metadata": {},
   "source": [
    "# Data Overview"
   ]
  },
  {
   "cell_type": "code",
   "execution_count": 18,
   "id": "49f2c89a-1d2e-4fa6-958f-12b866e9d0be",
   "metadata": {},
   "outputs": [
    {
     "data": {
      "text/plain": [
       "(3165536, 3)"
      ]
     },
     "execution_count": 18,
     "metadata": {},
     "output_type": "execute_result"
    }
   ],
   "source": [
    "traindata.shape"
   ]
  },
  {
   "cell_type": "code",
   "execution_count": 22,
   "id": "908aabcd-ee4f-4da0-a39c-4010efc65598",
   "metadata": {},
   "outputs": [
    {
     "data": {
      "image/png": "[encoded data removed]",
      "text/plain": [
       "<Figure size 432x288 with 1 Axes>"
      ]
     },
     "metadata": {
      "needs_background": "light"
     },
     "output_type": "display_data"
    }
   ],
   "source": [
    "plt.title('For a Day')\n",
    "plt.plot(traindata[traindata.location==141].counts.values[96:96*2])\n",
    "plt.grid()\n",
    "plt.show()"
   ]
  },
  {
   "cell_type": "code",
   "execution_count": 23,
   "id": "1e8301fc-12f2-4c36-9adf-1e43edf516c9",
   "metadata": {},
   "outputs": [
    {
     "data": {
      "image/png": "[encoded data removed]",
      "text/plain": [
       "<Figure size 720x360 with 1 Axes>"
      ]
     },
     "metadata": {
      "needs_background": "light"
     },
     "output_type": "display_data"
    }
   ],
   "source": [
    "plt.figure(figsize=(10,5))\n",
    "plt.title('For a Week')\n",
    "plt.plot(traindata[traindata.location==141].counts.values[96:96*8])\n",
    "plt.grid()\n",
    "plt.show()"
   ]
  },
  {
   "cell_type": "code",
   "execution_count": 24,
   "id": "c6a434eb-7a47-4454-9ca1-54d32398acb4",
   "metadata": {},
   "outputs": [
    {
     "data": {
      "image/png": "[encoded data removed]",
      "text/plain": [
       "<Figure size 1152x432 with 1 Axes>"
      ]
     },
     "metadata": {
      "needs_background": "light"
     },
     "output_type": "display_data"
    }
   ],
   "source": [
    "plt.figure(figsize=(16,6))\n",
    "plt.title('For 2 Weeks')\n",
    "plt.plot(traindata[traindata.location==141].counts.values[96:96*15])\n",
    "plt.grid()\n",
    "plt.show()"
   ]
  },
  {
   "cell_type": "code",
   "execution_count": 14,
   "id": "a1f57ebc-e162-4474-9772-1908b2bea1b2",
   "metadata": {},
   "outputs": [
    {
     "data": {
      "image/png": "[encoded data removed]",
      "text/plain": [
       "<Figure size 1152x432 with 1 Axes>"
      ]
     },
     "metadata": {
      "needs_background": "light"
     },
     "output_type": "display_data"
    }
   ],
   "source": [
    "plt.figure(figsize=(16,6))\n",
    "plt.title('For 1 year')\n",
    "plt.plot(traindata[traindata.location==141].counts.values[96:96*53])\n",
    "plt.grid()\n",
    "plt.show()"
   ]
  },
  {
   "cell_type": "code",
   "execution_count": 4,
   "id": "97815854-7c5c-4569-832b-b9491d2abe66",
   "metadata": {},
   "outputs": [],
   "source": [
    "# traindata =pd.read_csv('traindata5.csv')"
   ]
  },
  {
   "cell_type": "code",
   "execution_count": 7,
   "id": "efdb8212-fa2b-41b2-b03c-6e7d68506bfb",
   "metadata": {},
   "outputs": [
    {
     "data": {
      "text/plain": [
       "count    3.165536e+06\n",
       "mean     3.801636e+01\n",
       "std      4.674168e+01\n",
       "min      0.000000e+00\n",
       "25%      3.600000e+00\n",
       "50%      1.880000e+01\n",
       "75%      5.850000e+01\n",
       "max      6.599000e+02\n",
       "Name: counts, dtype: float64"
      ]
     },
     "execution_count": 7,
     "metadata": {},
     "output_type": "execute_result"
    }
   ],
   "source": [
    "traindata.counts.describe()"
   ]
  },
  {
   "cell_type": "code",
   "execution_count": 8,
   "id": "916c7fac-8bb8-47a4-99c7-62f13a8f7c5b",
   "metadata": {},
   "outputs": [
    {
     "data": {
      "text/plain": [
       "120342142.54999992"
      ]
     },
     "execution_count": 8,
     "metadata": {},
     "output_type": "execute_result"
    }
   ],
   "source": [
    "traindata.counts.sum()"
   ]
  },
  {
   "cell_type": "code",
   "execution_count": 20,
   "id": "baa9ea5b-0a31-42e1-bf7a-f53bddfeb103",
   "metadata": {},
   "outputs": [
    {
     "data": {
      "image/png": "[encoded data removed]",
      "text/plain": [
       "<Figure size 720x432 with 1 Axes>"
      ]
     },
     "metadata": {
      "needs_background": "light"
     },
     "output_type": "display_data"
    }
   ],
   "source": [
    "plt.figure(figsize=(10,6))\n",
    "sns.kdeplot(traindata.counts)\n",
    "plt.title('PDF of Pickup Counts')\n",
    "plt.xlabel('Pickup Counts')\n",
    "plt.ylabel('Relative likelihood')\n",
    "plt.show()"
   ]
  },
  {
   "cell_type": "code",
   "execution_count": 27,
   "id": "2d543d67-d3aa-4551-b1ea-29ec2b08a235",
   "metadata": {},
   "outputs": [
    {
     "data": {
      "text/plain": [
       "{'0th': 0.0,\n",
       " '10th': 0.05,\n",
       " '20th': 2.2,\n",
       " '30th': 5.3,\n",
       " '40th': 10.25,\n",
       " '50th': 18.8,\n",
       " '60th': 31.05,\n",
       " '70th': 48.05,\n",
       " '80th': 70.5,\n",
       " '90th': 102.7,\n",
       " '100th': 659.9}"
      ]
     },
     "execution_count": 27,
     "metadata": {},
     "output_type": "execute_result"
    }
   ],
   "source": [
    "np.set_printoptions(suppress=True)\n",
    "{str(i*10)+'th' :v for i,v in enumerate(np.percentile(traindata.counts.values, range(0,101, 10)))}"
   ]
  },
  {
   "cell_type": "code",
   "execution_count": 30,
   "id": "b8e722b2-8dd4-4c23-be19-3036e2d000eb",
   "metadata": {},
   "outputs": [
    {
     "data": {
      "text/plain": [
       "300955"
      ]
     },
     "execution_count": 30,
     "metadata": {},
     "output_type": "execute_result"
    }
   ],
   "source": [
    "(traindata.counts.values==0).sum()"
   ]
  },
  {
   "cell_type": "code",
   "execution_count": 31,
   "id": "bca1c6b9-6beb-4b65-8996-87c7c72da6ea",
   "metadata": {},
   "outputs": [
    {
     "data": {
      "text/plain": [
       "2864581"
      ]
     },
     "execution_count": 31,
     "metadata": {},
     "output_type": "execute_result"
    }
   ],
   "source": [
    "(traindata.counts.values!=0).sum()"
   ]
  },
  {
   "cell_type": "code",
   "execution_count": 32,
   "id": "5122d596-44e9-4ef2-9b7a-c28166cc0cd8",
   "metadata": {},
   "outputs": [
    {
     "data": {
      "text/plain": [
       "0.0950723668914206"
      ]
     },
     "execution_count": 32,
     "metadata": {},
     "output_type": "execute_result"
    }
   ],
   "source": [
    "(traindata.counts.values==0).sum()/len(traindata.counts)"
   ]
  },
  {
   "cell_type": "code",
   "execution_count": 21,
   "id": "9f71383b-09a6-44e7-9bd8-327cfbbf99b6",
   "metadata": {},
   "outputs": [
    {
     "data": {
      "text/plain": [
       "0.15551552722824824"
      ]
     },
     "execution_count": 21,
     "metadata": {},
     "output_type": "execute_result"
    }
   ],
   "source": [
    "(traindata.counts.values<1).sum()/len(traindata.counts)"
   ]
  },
  {
   "cell_type": "markdown",
   "id": "ed01c697-cdea-4e02-9107-3f236d07b442",
   "metadata": {},
   "source": [
    "* We have two features, location and timestamp.\n",
    "* Counts is the output label.\n",
    "* We have 3,165,536 data points.\n",
    "* We can certainly see a daily pattern.\n",
    "* But I am surprised that we do not see any clear uptrend in a year.\n",
    "* We have 120,342,142.55 pickups. It's in decimal because we have smoothed.\n",
    "* We have a minimum of 0 pickups and a maximum of 659.9 pickups.\n",
    "* Approx 9.50% of data points have counts=0 and approx 15.55% of data points have counts<1 out of the 3.165MM.\n",
    "* 25% of the data have counts ≤ 3.6 and only 10% of the data have counts≥102.7.\n",
    "* That pickup counts are highly skewed."
   ]
  },
  {
   "cell_type": "markdown",
   "id": "c435f721-7ee2-45ec-9e28-7f8f9733f47f",
   "metadata": {},
   "source": [
    "# Feature Extraction"
   ]
  },
  {
   "cell_type": "markdown",
   "id": "da58c883-6bee-4a7b-abe6-dceae6eb9fc1",
   "metadata": {},
   "source": [
    "At a given time we will have access to all previous data. <br>\n",
    "Based on counts of previous time intervals we can create some very good features."
   ]
  },
  {
   "cell_type": "code",
   "execution_count": 15,
   "id": "5bcf36d0-7f25-49c8-97dc-c934c3ff9aa2",
   "metadata": {},
   "outputs": [],
   "source": [
    "def feature1(data):\n",
    "    pd.options.mode.chained_assignment = None\n",
    "    t_1 = []\n",
    "    t_2 = []\n",
    "    t_3 = []\n",
    "    t_4 = []\n",
    "    t_5 = []\n",
    "\n",
    "    d_0 = []\n",
    "    d_1 = []\n",
    "    d_2 = []\n",
    "    d__1 = []\n",
    "    d__2 = []\n",
    "    for i in tqdm(np.sort(data.location.unique())):\n",
    "        temp = data[data.location == i]\n",
    "        for j in range(len(temp)):\n",
    "            t_1_temp = 0\n",
    "            t_2_temp = 0\n",
    "            t_3_temp = 0\n",
    "            t_4_temp = 0\n",
    "            t_5_temp = 0\n",
    "\n",
    "            if j>0:\n",
    "                t_1_temp = temp.iloc[j-1].counts\n",
    "            if j>1:\n",
    "                t_2_temp = temp.iloc[j-2].counts\n",
    "            if j>2:\n",
    "                t_3_temp = temp.iloc[j-3].counts\n",
    "            if j>3:\n",
    "                t_4_temp = temp.iloc[j-4].counts\n",
    "            if j>4:\n",
    "                t_5_temp = temp.iloc[j-5].counts\n",
    "            t_1.append(t_1_temp)\n",
    "            t_2.append(t_2_temp)\n",
    "            t_3.append(t_3_temp)\n",
    "            t_4.append(t_4_temp)\n",
    "            t_5.append(t_5_temp)\n",
    "\n",
    "            d_0_temp = 0\n",
    "            d_1_temp = 0\n",
    "            d_2_temp = 0\n",
    "            d__1_temp = 0\n",
    "            d__2_temp = 0\n",
    "            if j>93:\n",
    "                d_2_temp = temp.iloc[j-94].counts\n",
    "            if j>94:\n",
    "                d_1_temp = temp.iloc[j-95].counts\n",
    "            if j>95:\n",
    "                d_0_temp = temp.iloc[j-96].counts\n",
    "            if j>96:\n",
    "                d__1_temp = temp.iloc[j-97].counts\n",
    "            if j>97:\n",
    "                d__2_temp = temp.iloc[j-98].counts\n",
    "            d_0.append(d_0_temp)\n",
    "            d_1.append(d_1_temp)\n",
    "            d_2.append(d_2_temp)\n",
    "            d__1.append(d__1_temp)\n",
    "            d__2.append(d__2_temp)\n",
    "    \n",
    "    data['t-1'] = t_1\n",
    "    data['t-2'] = t_2\n",
    "    data['t-3'] = t_3\n",
    "    data['t-4'] = t_4\n",
    "    data['t-5'] = t_5\n",
    "\n",
    "    data['dt0'] = d_0\n",
    "    data['dt-1'] = d__1\n",
    "    data['dt-2'] = d__2\n",
    "    data['dt+1'] = d_1\n",
    "    data['dt+2'] = d_2\n",
    "    return data"
   ]
  },
  {
   "cell_type": "code",
   "execution_count": 133,
   "id": "ee9009bf-0ec8-4b94-8def-999217f9c6f2",
   "metadata": {},
   "outputs": [
    {
     "name": "stderr",
     "output_type": "stream",
     "text": [
      "100%|███████████████████████████████████████████| 68/68 [41:18<00:00, 36.45s/it]\n"
     ]
    }
   ],
   "source": [
    "traindata = feature1(traindata)"
   ]
  },
  {
   "cell_type": "code",
   "execution_count": 136,
   "id": "42828f41-c7dc-4903-b861-c8ea8459cd53",
   "metadata": {},
   "outputs": [
    {
     "data": {
      "text/html": [
       "<div>\n",
       "<style scoped>\n",
       "    .dataframe tbody tr th:only-of-type {\n",
       "        vertical-align: middle;\n",
       "    }\n",
       "\n",
       "    .dataframe tbody tr th {\n",
       "        vertical-align: top;\n",
       "    }\n",
       "\n",
       "    .dataframe thead th {\n",
       "        text-align: right;\n",
       "    }\n",
       "</style>\n",
       "<table border=\"1\" class=\"dataframe\">\n",
       "  <thead>\n",
       "    <tr style=\"text-align: right;\">\n",
       "      <th></th>\n",
       "      <th>location</th>\n",
       "      <th>timestamp</th>\n",
       "      <th>counts</th>\n",
       "      <th>t-1</th>\n",
       "      <th>t-2</th>\n",
       "      <th>t-3</th>\n",
       "      <th>t-4</th>\n",
       "      <th>t-5</th>\n",
       "      <th>dt0</th>\n",
       "      <th>dt-1</th>\n",
       "      <th>dt-2</th>\n",
       "      <th>dt+1</th>\n",
       "      <th>dt+2</th>\n",
       "    </tr>\n",
       "  </thead>\n",
       "  <tbody>\n",
       "    <tr>\n",
       "      <th>139656</th>\n",
       "      <td>4</td>\n",
       "      <td>1514782800</td>\n",
       "      <td>18.40</td>\n",
       "      <td>0.00</td>\n",
       "      <td>0.00</td>\n",
       "      <td>0.00</td>\n",
       "      <td>0.00</td>\n",
       "      <td>0.00</td>\n",
       "      <td>0.00</td>\n",
       "      <td>0.00</td>\n",
       "      <td>0.0</td>\n",
       "      <td>0.00</td>\n",
       "      <td>0.00</td>\n",
       "    </tr>\n",
       "    <tr>\n",
       "      <th>139657</th>\n",
       "      <td>4</td>\n",
       "      <td>1514783700</td>\n",
       "      <td>23.30</td>\n",
       "      <td>18.40</td>\n",
       "      <td>0.00</td>\n",
       "      <td>0.00</td>\n",
       "      <td>0.00</td>\n",
       "      <td>0.00</td>\n",
       "      <td>0.00</td>\n",
       "      <td>0.00</td>\n",
       "      <td>0.0</td>\n",
       "      <td>0.00</td>\n",
       "      <td>0.00</td>\n",
       "    </tr>\n",
       "    <tr>\n",
       "      <th>139658</th>\n",
       "      <td>4</td>\n",
       "      <td>1514784600</td>\n",
       "      <td>23.05</td>\n",
       "      <td>23.30</td>\n",
       "      <td>18.40</td>\n",
       "      <td>0.00</td>\n",
       "      <td>0.00</td>\n",
       "      <td>0.00</td>\n",
       "      <td>0.00</td>\n",
       "      <td>0.00</td>\n",
       "      <td>0.0</td>\n",
       "      <td>0.00</td>\n",
       "      <td>0.00</td>\n",
       "    </tr>\n",
       "    <tr>\n",
       "      <th>139659</th>\n",
       "      <td>4</td>\n",
       "      <td>1514785500</td>\n",
       "      <td>27.35</td>\n",
       "      <td>23.05</td>\n",
       "      <td>23.30</td>\n",
       "      <td>18.40</td>\n",
       "      <td>0.00</td>\n",
       "      <td>0.00</td>\n",
       "      <td>0.00</td>\n",
       "      <td>0.00</td>\n",
       "      <td>0.0</td>\n",
       "      <td>0.00</td>\n",
       "      <td>0.00</td>\n",
       "    </tr>\n",
       "    <tr>\n",
       "      <th>139660</th>\n",
       "      <td>4</td>\n",
       "      <td>1514786400</td>\n",
       "      <td>33.80</td>\n",
       "      <td>27.35</td>\n",
       "      <td>23.05</td>\n",
       "      <td>23.30</td>\n",
       "      <td>18.40</td>\n",
       "      <td>0.00</td>\n",
       "      <td>0.00</td>\n",
       "      <td>0.00</td>\n",
       "      <td>0.0</td>\n",
       "      <td>0.00</td>\n",
       "      <td>0.00</td>\n",
       "    </tr>\n",
       "    <tr>\n",
       "      <th>...</th>\n",
       "      <td>...</td>\n",
       "      <td>...</td>\n",
       "      <td>...</td>\n",
       "      <td>...</td>\n",
       "      <td>...</td>\n",
       "      <td>...</td>\n",
       "      <td>...</td>\n",
       "      <td>...</td>\n",
       "      <td>...</td>\n",
       "      <td>...</td>\n",
       "      <td>...</td>\n",
       "      <td>...</td>\n",
       "      <td>...</td>\n",
       "    </tr>\n",
       "    <tr>\n",
       "      <th>139751</th>\n",
       "      <td>4</td>\n",
       "      <td>1514868300</td>\n",
       "      <td>2.10</td>\n",
       "      <td>2.60</td>\n",
       "      <td>2.85</td>\n",
       "      <td>3.25</td>\n",
       "      <td>4.95</td>\n",
       "      <td>5.20</td>\n",
       "      <td>0.00</td>\n",
       "      <td>0.00</td>\n",
       "      <td>0.0</td>\n",
       "      <td>18.40</td>\n",
       "      <td>23.30</td>\n",
       "    </tr>\n",
       "    <tr>\n",
       "      <th>139752</th>\n",
       "      <td>4</td>\n",
       "      <td>1514869200</td>\n",
       "      <td>2.60</td>\n",
       "      <td>2.10</td>\n",
       "      <td>2.60</td>\n",
       "      <td>2.85</td>\n",
       "      <td>3.25</td>\n",
       "      <td>4.95</td>\n",
       "      <td>18.40</td>\n",
       "      <td>0.00</td>\n",
       "      <td>0.0</td>\n",
       "      <td>23.30</td>\n",
       "      <td>23.05</td>\n",
       "    </tr>\n",
       "    <tr>\n",
       "      <th>139753</th>\n",
       "      <td>4</td>\n",
       "      <td>1514870100</td>\n",
       "      <td>1.60</td>\n",
       "      <td>2.60</td>\n",
       "      <td>2.10</td>\n",
       "      <td>2.60</td>\n",
       "      <td>2.85</td>\n",
       "      <td>3.25</td>\n",
       "      <td>23.30</td>\n",
       "      <td>18.40</td>\n",
       "      <td>0.0</td>\n",
       "      <td>23.05</td>\n",
       "      <td>27.35</td>\n",
       "    </tr>\n",
       "    <tr>\n",
       "      <th>139754</th>\n",
       "      <td>4</td>\n",
       "      <td>1514871000</td>\n",
       "      <td>1.10</td>\n",
       "      <td>1.60</td>\n",
       "      <td>2.60</td>\n",
       "      <td>2.10</td>\n",
       "      <td>2.60</td>\n",
       "      <td>2.85</td>\n",
       "      <td>23.05</td>\n",
       "      <td>23.30</td>\n",
       "      <td>18.4</td>\n",
       "      <td>27.35</td>\n",
       "      <td>33.80</td>\n",
       "    </tr>\n",
       "    <tr>\n",
       "      <th>139755</th>\n",
       "      <td>4</td>\n",
       "      <td>1514871900</td>\n",
       "      <td>0.80</td>\n",
       "      <td>1.10</td>\n",
       "      <td>1.60</td>\n",
       "      <td>2.60</td>\n",
       "      <td>2.10</td>\n",
       "      <td>2.60</td>\n",
       "      <td>27.35</td>\n",
       "      <td>23.05</td>\n",
       "      <td>23.3</td>\n",
       "      <td>33.80</td>\n",
       "      <td>38.55</td>\n",
       "    </tr>\n",
       "  </tbody>\n",
       "</table>\n",
       "<p>100 rows × 13 columns</p>\n",
       "</div>"
      ],
      "text/plain": [
       "        location   timestamp  counts    t-1    t-2    t-3    t-4   t-5    dt0  \\\n",
       "139656         4  1514782800   18.40   0.00   0.00   0.00   0.00  0.00   0.00   \n",
       "139657         4  1514783700   23.30  18.40   0.00   0.00   0.00  0.00   0.00   \n",
       "139658         4  1514784600   23.05  23.30  18.40   0.00   0.00  0.00   0.00   \n",
       "139659         4  1514785500   27.35  23.05  23.30  18.40   0.00  0.00   0.00   \n",
       "139660         4  1514786400   33.80  27.35  23.05  23.30  18.40  0.00   0.00   \n",
       "...          ...         ...     ...    ...    ...    ...    ...   ...    ...   \n",
       "139751         4  1514868300    2.10   2.60   2.85   3.25   4.95  5.20   0.00   \n",
       "139752         4  1514869200    2.60   2.10   2.60   2.85   3.25  4.95  18.40   \n",
       "139753         4  1514870100    1.60   2.60   2.10   2.60   2.85  3.25  23.30   \n",
       "139754         4  1514871000    1.10   1.60   2.60   2.10   2.60  2.85  23.05   \n",
       "139755         4  1514871900    0.80   1.10   1.60   2.60   2.10  2.60  27.35   \n",
       "\n",
       "         dt-1  dt-2   dt+1   dt+2  \n",
       "139656   0.00   0.0   0.00   0.00  \n",
       "139657   0.00   0.0   0.00   0.00  \n",
       "139658   0.00   0.0   0.00   0.00  \n",
       "139659   0.00   0.0   0.00   0.00  \n",
       "139660   0.00   0.0   0.00   0.00  \n",
       "...       ...   ...    ...    ...  \n",
       "139751   0.00   0.0  18.40  23.30  \n",
       "139752   0.00   0.0  23.30  23.05  \n",
       "139753  18.40   0.0  23.05  27.35  \n",
       "139754  23.30  18.4  27.35  33.80  \n",
       "139755  23.05  23.3  33.80  38.55  \n",
       "\n",
       "[100 rows x 13 columns]"
      ]
     },
     "execution_count": 136,
     "metadata": {},
     "output_type": "execute_result"
    }
   ],
   "source": [
    "traindata.head(100)"
   ]
  },
  {
   "cell_type": "markdown",
   "id": "ec948455-0fe9-418f-a364-5d23f75ea82e",
   "metadata": {},
   "source": [
    "* t-1: pickup counts at last time interval.\n",
    "* t-2: pickup counts at second last time interval.\n",
    "* t-3: pickup counts at third last time interval.\n",
    "* t-4: pickup counts at fourth last time interval.\n",
    "* t-5: pickup counts at fifth last time interval.\n",
    "* dt0: pickup counts at same time on previous day.\n",
    "* dt-1: pickup counts at t-1 time on previous day.\n",
    "* dt-2: pickup counts at t-2 time on previous day.\n",
    "* dt+1: pickup counts at t+1 time on previous day.\n",
    "* dt+2: pickup counts at t+2 time on previous day."
   ]
  },
  {
   "cell_type": "code",
   "execution_count": 16,
   "id": "32f94ed8-b1e3-4ee3-9d1f-05a21bc6b6f3",
   "metadata": {},
   "outputs": [],
   "source": [
    "def feature2(data):\n",
    "    data['tdiff1'] = data.apply(lambda x:x['t-1']-x['t-2'], axis=1)\n",
    "    data['tdiff2'] = data.apply(lambda x:x['t-2']-x['t-3'], axis=1)    \n",
    "    data['tdiff3'] = data.apply(lambda x:x['t-3']-x['t-4'], axis=1)    \n",
    "    data['tdiff4'] = data.apply(lambda x:x['t-4']-x['t-5'], axis=1)    \n",
    "    \n",
    "    data['ty1'] = data.apply(lambda x:x['t-1']-x['dt-1'], axis=1)    \n",
    "    data['ty2'] = data.apply(lambda x:x['t-2']-x['dt-2'], axis=1)    \n",
    "    \n",
    "    data['avg_y'] = data.apply(lambda x:(x['dt-2']+x['dt-1']+x['dt0']+x['dt+1']+x['dt+2'])/5, axis=1)       \n",
    "    return data"
   ]
  },
  {
   "cell_type": "code",
   "execution_count": 150,
   "id": "6282d566-6dfa-437f-8996-4874f57ca5e1",
   "metadata": {},
   "outputs": [],
   "source": [
    "traindata = feature2(traindata)"
   ]
  },
  {
   "cell_type": "code",
   "execution_count": 153,
   "id": "cd91ca32-91f2-483b-8612-7f71f317ac76",
   "metadata": {},
   "outputs": [
    {
     "data": {
      "text/html": [
       "<div>\n",
       "<style scoped>\n",
       "    .dataframe tbody tr th:only-of-type {\n",
       "        vertical-align: middle;\n",
       "    }\n",
       "\n",
       "    .dataframe tbody tr th {\n",
       "        vertical-align: top;\n",
       "    }\n",
       "\n",
       "    .dataframe thead th {\n",
       "        text-align: right;\n",
       "    }\n",
       "</style>\n",
       "<table border=\"1\" class=\"dataframe\">\n",
       "  <thead>\n",
       "    <tr style=\"text-align: right;\">\n",
       "      <th></th>\n",
       "      <th>location</th>\n",
       "      <th>timestamp</th>\n",
       "      <th>counts</th>\n",
       "      <th>t-1</th>\n",
       "      <th>t-2</th>\n",
       "      <th>t-3</th>\n",
       "      <th>t-4</th>\n",
       "      <th>t-5</th>\n",
       "      <th>dt0</th>\n",
       "      <th>dt-1</th>\n",
       "      <th>dt-2</th>\n",
       "      <th>dt+1</th>\n",
       "      <th>dt+2</th>\n",
       "      <th>tdiff1</th>\n",
       "      <th>tdiff2</th>\n",
       "      <th>tdiff3</th>\n",
       "      <th>tdiff4</th>\n",
       "      <th>ty1</th>\n",
       "      <th>ty2</th>\n",
       "      <th>avg_y</th>\n",
       "    </tr>\n",
       "  </thead>\n",
       "  <tbody>\n",
       "    <tr>\n",
       "      <th>0</th>\n",
       "      <td>4</td>\n",
       "      <td>1514782800</td>\n",
       "      <td>18.40</td>\n",
       "      <td>0.00</td>\n",
       "      <td>0.00</td>\n",
       "      <td>0.00</td>\n",
       "      <td>0.00</td>\n",
       "      <td>0.00</td>\n",
       "      <td>0.00</td>\n",
       "      <td>0.00</td>\n",
       "      <td>0.0</td>\n",
       "      <td>0.00</td>\n",
       "      <td>0.00</td>\n",
       "      <td>0.00</td>\n",
       "      <td>0.00</td>\n",
       "      <td>0.00</td>\n",
       "      <td>0.00</td>\n",
       "      <td>0.00</td>\n",
       "      <td>0.00</td>\n",
       "      <td>0.00</td>\n",
       "    </tr>\n",
       "    <tr>\n",
       "      <th>1</th>\n",
       "      <td>4</td>\n",
       "      <td>1514783700</td>\n",
       "      <td>23.30</td>\n",
       "      <td>18.40</td>\n",
       "      <td>0.00</td>\n",
       "      <td>0.00</td>\n",
       "      <td>0.00</td>\n",
       "      <td>0.00</td>\n",
       "      <td>0.00</td>\n",
       "      <td>0.00</td>\n",
       "      <td>0.0</td>\n",
       "      <td>0.00</td>\n",
       "      <td>0.00</td>\n",
       "      <td>18.40</td>\n",
       "      <td>0.00</td>\n",
       "      <td>0.00</td>\n",
       "      <td>0.00</td>\n",
       "      <td>18.40</td>\n",
       "      <td>0.00</td>\n",
       "      <td>0.00</td>\n",
       "    </tr>\n",
       "    <tr>\n",
       "      <th>2</th>\n",
       "      <td>4</td>\n",
       "      <td>1514784600</td>\n",
       "      <td>23.05</td>\n",
       "      <td>23.30</td>\n",
       "      <td>18.40</td>\n",
       "      <td>0.00</td>\n",
       "      <td>0.00</td>\n",
       "      <td>0.00</td>\n",
       "      <td>0.00</td>\n",
       "      <td>0.00</td>\n",
       "      <td>0.0</td>\n",
       "      <td>0.00</td>\n",
       "      <td>0.00</td>\n",
       "      <td>4.90</td>\n",
       "      <td>18.40</td>\n",
       "      <td>0.00</td>\n",
       "      <td>0.00</td>\n",
       "      <td>23.30</td>\n",
       "      <td>18.40</td>\n",
       "      <td>0.00</td>\n",
       "    </tr>\n",
       "    <tr>\n",
       "      <th>3</th>\n",
       "      <td>4</td>\n",
       "      <td>1514785500</td>\n",
       "      <td>27.35</td>\n",
       "      <td>23.05</td>\n",
       "      <td>23.30</td>\n",
       "      <td>18.40</td>\n",
       "      <td>0.00</td>\n",
       "      <td>0.00</td>\n",
       "      <td>0.00</td>\n",
       "      <td>0.00</td>\n",
       "      <td>0.0</td>\n",
       "      <td>0.00</td>\n",
       "      <td>0.00</td>\n",
       "      <td>-0.25</td>\n",
       "      <td>4.90</td>\n",
       "      <td>18.40</td>\n",
       "      <td>0.00</td>\n",
       "      <td>23.05</td>\n",
       "      <td>23.30</td>\n",
       "      <td>0.00</td>\n",
       "    </tr>\n",
       "    <tr>\n",
       "      <th>4</th>\n",
       "      <td>4</td>\n",
       "      <td>1514786400</td>\n",
       "      <td>33.80</td>\n",
       "      <td>27.35</td>\n",
       "      <td>23.05</td>\n",
       "      <td>23.30</td>\n",
       "      <td>18.40</td>\n",
       "      <td>0.00</td>\n",
       "      <td>0.00</td>\n",
       "      <td>0.00</td>\n",
       "      <td>0.0</td>\n",
       "      <td>0.00</td>\n",
       "      <td>0.00</td>\n",
       "      <td>4.30</td>\n",
       "      <td>-0.25</td>\n",
       "      <td>4.90</td>\n",
       "      <td>18.40</td>\n",
       "      <td>27.35</td>\n",
       "      <td>23.05</td>\n",
       "      <td>0.00</td>\n",
       "    </tr>\n",
       "    <tr>\n",
       "      <th>...</th>\n",
       "      <td>...</td>\n",
       "      <td>...</td>\n",
       "      <td>...</td>\n",
       "      <td>...</td>\n",
       "      <td>...</td>\n",
       "      <td>...</td>\n",
       "      <td>...</td>\n",
       "      <td>...</td>\n",
       "      <td>...</td>\n",
       "      <td>...</td>\n",
       "      <td>...</td>\n",
       "      <td>...</td>\n",
       "      <td>...</td>\n",
       "      <td>...</td>\n",
       "      <td>...</td>\n",
       "      <td>...</td>\n",
       "      <td>...</td>\n",
       "      <td>...</td>\n",
       "      <td>...</td>\n",
       "      <td>...</td>\n",
       "    </tr>\n",
       "    <tr>\n",
       "      <th>95</th>\n",
       "      <td>4</td>\n",
       "      <td>1514868300</td>\n",
       "      <td>2.10</td>\n",
       "      <td>2.60</td>\n",
       "      <td>2.85</td>\n",
       "      <td>3.25</td>\n",
       "      <td>4.95</td>\n",
       "      <td>5.20</td>\n",
       "      <td>0.00</td>\n",
       "      <td>0.00</td>\n",
       "      <td>0.0</td>\n",
       "      <td>18.40</td>\n",
       "      <td>23.30</td>\n",
       "      <td>-0.25</td>\n",
       "      <td>-0.40</td>\n",
       "      <td>-1.70</td>\n",
       "      <td>-0.25</td>\n",
       "      <td>2.60</td>\n",
       "      <td>2.85</td>\n",
       "      <td>8.34</td>\n",
       "    </tr>\n",
       "    <tr>\n",
       "      <th>96</th>\n",
       "      <td>4</td>\n",
       "      <td>1514869200</td>\n",
       "      <td>2.60</td>\n",
       "      <td>2.10</td>\n",
       "      <td>2.60</td>\n",
       "      <td>2.85</td>\n",
       "      <td>3.25</td>\n",
       "      <td>4.95</td>\n",
       "      <td>18.40</td>\n",
       "      <td>0.00</td>\n",
       "      <td>0.0</td>\n",
       "      <td>23.30</td>\n",
       "      <td>23.05</td>\n",
       "      <td>-0.50</td>\n",
       "      <td>-0.25</td>\n",
       "      <td>-0.40</td>\n",
       "      <td>-1.70</td>\n",
       "      <td>2.10</td>\n",
       "      <td>2.60</td>\n",
       "      <td>12.95</td>\n",
       "    </tr>\n",
       "    <tr>\n",
       "      <th>97</th>\n",
       "      <td>4</td>\n",
       "      <td>1514870100</td>\n",
       "      <td>1.60</td>\n",
       "      <td>2.60</td>\n",
       "      <td>2.10</td>\n",
       "      <td>2.60</td>\n",
       "      <td>2.85</td>\n",
       "      <td>3.25</td>\n",
       "      <td>23.30</td>\n",
       "      <td>18.40</td>\n",
       "      <td>0.0</td>\n",
       "      <td>23.05</td>\n",
       "      <td>27.35</td>\n",
       "      <td>0.50</td>\n",
       "      <td>-0.50</td>\n",
       "      <td>-0.25</td>\n",
       "      <td>-0.40</td>\n",
       "      <td>-15.80</td>\n",
       "      <td>2.10</td>\n",
       "      <td>18.42</td>\n",
       "    </tr>\n",
       "    <tr>\n",
       "      <th>98</th>\n",
       "      <td>4</td>\n",
       "      <td>1514871000</td>\n",
       "      <td>1.10</td>\n",
       "      <td>1.60</td>\n",
       "      <td>2.60</td>\n",
       "      <td>2.10</td>\n",
       "      <td>2.60</td>\n",
       "      <td>2.85</td>\n",
       "      <td>23.05</td>\n",
       "      <td>23.30</td>\n",
       "      <td>18.4</td>\n",
       "      <td>27.35</td>\n",
       "      <td>33.80</td>\n",
       "      <td>-1.00</td>\n",
       "      <td>0.50</td>\n",
       "      <td>-0.50</td>\n",
       "      <td>-0.25</td>\n",
       "      <td>-21.70</td>\n",
       "      <td>-15.80</td>\n",
       "      <td>25.18</td>\n",
       "    </tr>\n",
       "    <tr>\n",
       "      <th>99</th>\n",
       "      <td>4</td>\n",
       "      <td>1514871900</td>\n",
       "      <td>0.80</td>\n",
       "      <td>1.10</td>\n",
       "      <td>1.60</td>\n",
       "      <td>2.60</td>\n",
       "      <td>2.10</td>\n",
       "      <td>2.60</td>\n",
       "      <td>27.35</td>\n",
       "      <td>23.05</td>\n",
       "      <td>23.3</td>\n",
       "      <td>33.80</td>\n",
       "      <td>38.55</td>\n",
       "      <td>-0.50</td>\n",
       "      <td>-1.00</td>\n",
       "      <td>0.50</td>\n",
       "      <td>-0.50</td>\n",
       "      <td>-21.95</td>\n",
       "      <td>-21.70</td>\n",
       "      <td>29.21</td>\n",
       "    </tr>\n",
       "  </tbody>\n",
       "</table>\n",
       "<p>100 rows × 20 columns</p>\n",
       "</div>"
      ],
      "text/plain": [
       "    location   timestamp  counts    t-1    t-2    t-3    t-4   t-5    dt0  \\\n",
       "0          4  1514782800   18.40   0.00   0.00   0.00   0.00  0.00   0.00   \n",
       "1          4  1514783700   23.30  18.40   0.00   0.00   0.00  0.00   0.00   \n",
       "2          4  1514784600   23.05  23.30  18.40   0.00   0.00  0.00   0.00   \n",
       "3          4  1514785500   27.35  23.05  23.30  18.40   0.00  0.00   0.00   \n",
       "4          4  1514786400   33.80  27.35  23.05  23.30  18.40  0.00   0.00   \n",
       "..       ...         ...     ...    ...    ...    ...    ...   ...    ...   \n",
       "95         4  1514868300    2.10   2.60   2.85   3.25   4.95  5.20   0.00   \n",
       "96         4  1514869200    2.60   2.10   2.60   2.85   3.25  4.95  18.40   \n",
       "97         4  1514870100    1.60   2.60   2.10   2.60   2.85  3.25  23.30   \n",
       "98         4  1514871000    1.10   1.60   2.60   2.10   2.60  2.85  23.05   \n",
       "99         4  1514871900    0.80   1.10   1.60   2.60   2.10  2.60  27.35   \n",
       "\n",
       "     dt-1  dt-2   dt+1   dt+2  tdiff1  tdiff2  tdiff3  tdiff4    ty1    ty2  \\\n",
       "0    0.00   0.0   0.00   0.00    0.00    0.00    0.00    0.00   0.00   0.00   \n",
       "1    0.00   0.0   0.00   0.00   18.40    0.00    0.00    0.00  18.40   0.00   \n",
       "2    0.00   0.0   0.00   0.00    4.90   18.40    0.00    0.00  23.30  18.40   \n",
       "3    0.00   0.0   0.00   0.00   -0.25    4.90   18.40    0.00  23.05  23.30   \n",
       "4    0.00   0.0   0.00   0.00    4.30   -0.25    4.90   18.40  27.35  23.05   \n",
       "..    ...   ...    ...    ...     ...     ...     ...     ...    ...    ...   \n",
       "95   0.00   0.0  18.40  23.30   -0.25   -0.40   -1.70   -0.25   2.60   2.85   \n",
       "96   0.00   0.0  23.30  23.05   -0.50   -0.25   -0.40   -1.70   2.10   2.60   \n",
       "97  18.40   0.0  23.05  27.35    0.50   -0.50   -0.25   -0.40 -15.80   2.10   \n",
       "98  23.30  18.4  27.35  33.80   -1.00    0.50   -0.50   -0.25 -21.70 -15.80   \n",
       "99  23.05  23.3  33.80  38.55   -0.50   -1.00    0.50   -0.50 -21.95 -21.70   \n",
       "\n",
       "    avg_y  \n",
       "0    0.00  \n",
       "1    0.00  \n",
       "2    0.00  \n",
       "3    0.00  \n",
       "4    0.00  \n",
       "..    ...  \n",
       "95   8.34  \n",
       "96  12.95  \n",
       "97  18.42  \n",
       "98  25.18  \n",
       "99  29.21  \n",
       "\n",
       "[100 rows x 20 columns]"
      ]
     },
     "execution_count": 153,
     "metadata": {},
     "output_type": "execute_result"
    }
   ],
   "source": [
    "traindata.head(100)"
   ]
  },
  {
   "cell_type": "code",
   "execution_count": null,
   "id": "2a2e29e5-f2b0-40b9-bb1a-7ffe35cdd84f",
   "metadata": {},
   "outputs": [],
   "source": [
    "#traindata.to_csv('traindata6.csv', index=False)"
   ]
  },
  {
   "cell_type": "markdown",
   "id": "138b71c9-c615-42f1-89c4-0f1a9b4ddea6",
   "metadata": {},
   "source": [
    "* tdiff1: which is equal to [t-1]-[t-2]\n",
    "* tdiff2: which is equal to [t-2]-[t-3]\n",
    "* tdiff3: which is equal to [t-3]-[t-4]\n",
    "* tdiff4: which is equal to [t-4]-[t-5]\n",
    "* ty1: which is equal to [t-1]-[dt-1]\n",
    "* ty2: which is equal to [t-2]-[dt-2]\n",
    "* avg_y: which is equal to ([dt-2]+[dt-1]+[dt0]+[dt+1]+[dt+2])/5"
   ]
  },
  {
   "cell_type": "code",
   "execution_count": 17,
   "id": "749e55a0-3d14-49c2-86fb-04e0aa9a0614",
   "metadata": {},
   "outputs": [],
   "source": [
    "def feature3(data):\n",
    "    n = 5\n",
    "    \n",
    "    data['simple_MA'] = data.apply(lambda x:(x['t-1']+x['t-2']+x['t-3']+x['t-4']+x['t-5'])/n, axis=1)\n",
    "    \n",
    "    data['weighted_MA'] = data.apply(lambda x:(n*x['t-1']+(n-1)*x['t-2']+(n-2)*x['t-3']+(n-3)*x['t-4']+(n-4)*x['t-5'])/(n*(n+1)/2), axis=1)\n",
    "    \n",
    "    alpha = 2/(1+n)\n",
    "    data['exponential_MA'] = data.apply(lambda x:(alpha *  \n",
    "                                  (x['t-1']+(1-alpha)*x['t-2']+((1-alpha)**2)*x['t-3']+((1-alpha)**3)*x['t-4']+((1-alpha)**4)*x['t-5'])), \\\n",
    "                                axis=1)       \n",
    "    \n",
    "    data['week_day'] = data.timestamp.apply(lambda x: datetime.fromtimestamp(x).isoweekday())\n",
    "    return data"
   ]
  },
  {
   "cell_type": "code",
   "execution_count": 158,
   "id": "5f4aea14-2031-4272-a244-9fcc715cffc2",
   "metadata": {},
   "outputs": [],
   "source": [
    "traindata = feature3(traindata)"
   ]
  },
  {
   "cell_type": "code",
   "execution_count": 167,
   "id": "badbe41f-46b2-4cc8-b391-5da9587835cf",
   "metadata": {},
   "outputs": [
    {
     "data": {
      "text/html": [
       "<div>\n",
       "<style scoped>\n",
       "    .dataframe tbody tr th:only-of-type {\n",
       "        vertical-align: middle;\n",
       "    }\n",
       "\n",
       "    .dataframe tbody tr th {\n",
       "        vertical-align: top;\n",
       "    }\n",
       "\n",
       "    .dataframe thead th {\n",
       "        text-align: right;\n",
       "    }\n",
       "</style>\n",
       "<table border=\"1\" class=\"dataframe\">\n",
       "  <thead>\n",
       "    <tr style=\"text-align: right;\">\n",
       "      <th></th>\n",
       "      <th>location</th>\n",
       "      <th>timestamp</th>\n",
       "      <th>counts</th>\n",
       "      <th>t-1</th>\n",
       "      <th>t-2</th>\n",
       "      <th>t-3</th>\n",
       "      <th>t-4</th>\n",
       "      <th>t-5</th>\n",
       "      <th>dt0</th>\n",
       "      <th>dt-1</th>\n",
       "      <th>...</th>\n",
       "      <th>tdiff2</th>\n",
       "      <th>tdiff3</th>\n",
       "      <th>tdiff4</th>\n",
       "      <th>ty1</th>\n",
       "      <th>ty2</th>\n",
       "      <th>avg_y</th>\n",
       "      <th>simple_MA</th>\n",
       "      <th>weighted_MA</th>\n",
       "      <th>exponential_MA</th>\n",
       "      <th>week_day</th>\n",
       "    </tr>\n",
       "  </thead>\n",
       "  <tbody>\n",
       "    <tr>\n",
       "      <th>0</th>\n",
       "      <td>4</td>\n",
       "      <td>1514782800</td>\n",
       "      <td>18.40</td>\n",
       "      <td>0.00</td>\n",
       "      <td>0.00</td>\n",
       "      <td>0.00</td>\n",
       "      <td>0.00</td>\n",
       "      <td>0.00</td>\n",
       "      <td>0.00</td>\n",
       "      <td>0.00</td>\n",
       "      <td>...</td>\n",
       "      <td>0.00</td>\n",
       "      <td>0.00</td>\n",
       "      <td>0.00</td>\n",
       "      <td>0.00</td>\n",
       "      <td>0.00</td>\n",
       "      <td>0.00</td>\n",
       "      <td>0.00</td>\n",
       "      <td>0.000000</td>\n",
       "      <td>0.000000</td>\n",
       "      <td>1</td>\n",
       "    </tr>\n",
       "    <tr>\n",
       "      <th>1</th>\n",
       "      <td>4</td>\n",
       "      <td>1514783700</td>\n",
       "      <td>23.30</td>\n",
       "      <td>18.40</td>\n",
       "      <td>0.00</td>\n",
       "      <td>0.00</td>\n",
       "      <td>0.00</td>\n",
       "      <td>0.00</td>\n",
       "      <td>0.00</td>\n",
       "      <td>0.00</td>\n",
       "      <td>...</td>\n",
       "      <td>0.00</td>\n",
       "      <td>0.00</td>\n",
       "      <td>0.00</td>\n",
       "      <td>18.40</td>\n",
       "      <td>0.00</td>\n",
       "      <td>0.00</td>\n",
       "      <td>3.68</td>\n",
       "      <td>6.133333</td>\n",
       "      <td>6.133333</td>\n",
       "      <td>1</td>\n",
       "    </tr>\n",
       "    <tr>\n",
       "      <th>2</th>\n",
       "      <td>4</td>\n",
       "      <td>1514784600</td>\n",
       "      <td>23.05</td>\n",
       "      <td>23.30</td>\n",
       "      <td>18.40</td>\n",
       "      <td>0.00</td>\n",
       "      <td>0.00</td>\n",
       "      <td>0.00</td>\n",
       "      <td>0.00</td>\n",
       "      <td>0.00</td>\n",
       "      <td>...</td>\n",
       "      <td>18.40</td>\n",
       "      <td>0.00</td>\n",
       "      <td>0.00</td>\n",
       "      <td>23.30</td>\n",
       "      <td>18.40</td>\n",
       "      <td>0.00</td>\n",
       "      <td>8.34</td>\n",
       "      <td>12.673333</td>\n",
       "      <td>11.855556</td>\n",
       "      <td>1</td>\n",
       "    </tr>\n",
       "    <tr>\n",
       "      <th>3</th>\n",
       "      <td>4</td>\n",
       "      <td>1514785500</td>\n",
       "      <td>27.35</td>\n",
       "      <td>23.05</td>\n",
       "      <td>23.30</td>\n",
       "      <td>18.40</td>\n",
       "      <td>0.00</td>\n",
       "      <td>0.00</td>\n",
       "      <td>0.00</td>\n",
       "      <td>0.00</td>\n",
       "      <td>...</td>\n",
       "      <td>4.90</td>\n",
       "      <td>18.40</td>\n",
       "      <td>0.00</td>\n",
       "      <td>23.05</td>\n",
       "      <td>23.30</td>\n",
       "      <td>0.00</td>\n",
       "      <td>12.95</td>\n",
       "      <td>17.576667</td>\n",
       "      <td>15.587037</td>\n",
       "      <td>1</td>\n",
       "    </tr>\n",
       "    <tr>\n",
       "      <th>4</th>\n",
       "      <td>4</td>\n",
       "      <td>1514786400</td>\n",
       "      <td>33.80</td>\n",
       "      <td>27.35</td>\n",
       "      <td>23.05</td>\n",
       "      <td>23.30</td>\n",
       "      <td>18.40</td>\n",
       "      <td>0.00</td>\n",
       "      <td>0.00</td>\n",
       "      <td>0.00</td>\n",
       "      <td>...</td>\n",
       "      <td>-0.25</td>\n",
       "      <td>4.90</td>\n",
       "      <td>18.40</td>\n",
       "      <td>27.35</td>\n",
       "      <td>23.05</td>\n",
       "      <td>0.00</td>\n",
       "      <td>18.42</td>\n",
       "      <td>22.376667</td>\n",
       "      <td>19.508025</td>\n",
       "      <td>1</td>\n",
       "    </tr>\n",
       "    <tr>\n",
       "      <th>...</th>\n",
       "      <td>...</td>\n",
       "      <td>...</td>\n",
       "      <td>...</td>\n",
       "      <td>...</td>\n",
       "      <td>...</td>\n",
       "      <td>...</td>\n",
       "      <td>...</td>\n",
       "      <td>...</td>\n",
       "      <td>...</td>\n",
       "      <td>...</td>\n",
       "      <td>...</td>\n",
       "      <td>...</td>\n",
       "      <td>...</td>\n",
       "      <td>...</td>\n",
       "      <td>...</td>\n",
       "      <td>...</td>\n",
       "      <td>...</td>\n",
       "      <td>...</td>\n",
       "      <td>...</td>\n",
       "      <td>...</td>\n",
       "      <td>...</td>\n",
       "    </tr>\n",
       "    <tr>\n",
       "      <th>95</th>\n",
       "      <td>4</td>\n",
       "      <td>1514868300</td>\n",
       "      <td>2.10</td>\n",
       "      <td>2.60</td>\n",
       "      <td>2.85</td>\n",
       "      <td>3.25</td>\n",
       "      <td>4.95</td>\n",
       "      <td>5.20</td>\n",
       "      <td>0.00</td>\n",
       "      <td>0.00</td>\n",
       "      <td>...</td>\n",
       "      <td>-0.40</td>\n",
       "      <td>-1.70</td>\n",
       "      <td>-0.25</td>\n",
       "      <td>2.60</td>\n",
       "      <td>2.85</td>\n",
       "      <td>8.34</td>\n",
       "      <td>3.77</td>\n",
       "      <td>3.283333</td>\n",
       "      <td>2.812757</td>\n",
       "      <td>1</td>\n",
       "    </tr>\n",
       "    <tr>\n",
       "      <th>96</th>\n",
       "      <td>4</td>\n",
       "      <td>1514869200</td>\n",
       "      <td>2.60</td>\n",
       "      <td>2.10</td>\n",
       "      <td>2.60</td>\n",
       "      <td>2.85</td>\n",
       "      <td>3.25</td>\n",
       "      <td>4.95</td>\n",
       "      <td>18.40</td>\n",
       "      <td>0.00</td>\n",
       "      <td>...</td>\n",
       "      <td>-0.25</td>\n",
       "      <td>-0.40</td>\n",
       "      <td>-1.70</td>\n",
       "      <td>2.10</td>\n",
       "      <td>2.60</td>\n",
       "      <td>12.95</td>\n",
       "      <td>3.15</td>\n",
       "      <td>2.726667</td>\n",
       "      <td>2.346914</td>\n",
       "      <td>2</td>\n",
       "    </tr>\n",
       "    <tr>\n",
       "      <th>97</th>\n",
       "      <td>4</td>\n",
       "      <td>1514870100</td>\n",
       "      <td>1.60</td>\n",
       "      <td>2.60</td>\n",
       "      <td>2.10</td>\n",
       "      <td>2.60</td>\n",
       "      <td>2.85</td>\n",
       "      <td>3.25</td>\n",
       "      <td>23.30</td>\n",
       "      <td>18.40</td>\n",
       "      <td>...</td>\n",
       "      <td>-0.50</td>\n",
       "      <td>-0.25</td>\n",
       "      <td>-0.40</td>\n",
       "      <td>-15.80</td>\n",
       "      <td>2.10</td>\n",
       "      <td>18.42</td>\n",
       "      <td>2.68</td>\n",
       "      <td>2.543333</td>\n",
       "      <td>2.213992</td>\n",
       "      <td>2</td>\n",
       "    </tr>\n",
       "    <tr>\n",
       "      <th>98</th>\n",
       "      <td>4</td>\n",
       "      <td>1514871000</td>\n",
       "      <td>1.10</td>\n",
       "      <td>1.60</td>\n",
       "      <td>2.60</td>\n",
       "      <td>2.10</td>\n",
       "      <td>2.60</td>\n",
       "      <td>2.85</td>\n",
       "      <td>23.05</td>\n",
       "      <td>23.30</td>\n",
       "      <td>...</td>\n",
       "      <td>0.50</td>\n",
       "      <td>-0.50</td>\n",
       "      <td>-0.25</td>\n",
       "      <td>-21.70</td>\n",
       "      <td>-15.80</td>\n",
       "      <td>25.18</td>\n",
       "      <td>2.35</td>\n",
       "      <td>2.183333</td>\n",
       "      <td>1.866667</td>\n",
       "      <td>2</td>\n",
       "    </tr>\n",
       "    <tr>\n",
       "      <th>99</th>\n",
       "      <td>4</td>\n",
       "      <td>1514871900</td>\n",
       "      <td>0.80</td>\n",
       "      <td>1.10</td>\n",
       "      <td>1.60</td>\n",
       "      <td>2.60</td>\n",
       "      <td>2.10</td>\n",
       "      <td>2.60</td>\n",
       "      <td>27.35</td>\n",
       "      <td>23.05</td>\n",
       "      <td>...</td>\n",
       "      <td>-1.00</td>\n",
       "      <td>0.50</td>\n",
       "      <td>-0.50</td>\n",
       "      <td>-21.95</td>\n",
       "      <td>-21.70</td>\n",
       "      <td>29.21</td>\n",
       "      <td>2.00</td>\n",
       "      <td>1.766667</td>\n",
       "      <td>1.486008</td>\n",
       "      <td>2</td>\n",
       "    </tr>\n",
       "  </tbody>\n",
       "</table>\n",
       "<p>100 rows × 24 columns</p>\n",
       "</div>"
      ],
      "text/plain": [
       "    location   timestamp  counts    t-1    t-2    t-3    t-4   t-5    dt0  \\\n",
       "0          4  1514782800   18.40   0.00   0.00   0.00   0.00  0.00   0.00   \n",
       "1          4  1514783700   23.30  18.40   0.00   0.00   0.00  0.00   0.00   \n",
       "2          4  1514784600   23.05  23.30  18.40   0.00   0.00  0.00   0.00   \n",
       "3          4  1514785500   27.35  23.05  23.30  18.40   0.00  0.00   0.00   \n",
       "4          4  1514786400   33.80  27.35  23.05  23.30  18.40  0.00   0.00   \n",
       "..       ...         ...     ...    ...    ...    ...    ...   ...    ...   \n",
       "95         4  1514868300    2.10   2.60   2.85   3.25   4.95  5.20   0.00   \n",
       "96         4  1514869200    2.60   2.10   2.60   2.85   3.25  4.95  18.40   \n",
       "97         4  1514870100    1.60   2.60   2.10   2.60   2.85  3.25  23.30   \n",
       "98         4  1514871000    1.10   1.60   2.60   2.10   2.60  2.85  23.05   \n",
       "99         4  1514871900    0.80   1.10   1.60   2.60   2.10  2.60  27.35   \n",
       "\n",
       "     dt-1  ...  tdiff2  tdiff3  tdiff4    ty1    ty2  avg_y  simple_MA  \\\n",
       "0    0.00  ...    0.00    0.00    0.00   0.00   0.00   0.00       0.00   \n",
       "1    0.00  ...    0.00    0.00    0.00  18.40   0.00   0.00       3.68   \n",
       "2    0.00  ...   18.40    0.00    0.00  23.30  18.40   0.00       8.34   \n",
       "3    0.00  ...    4.90   18.40    0.00  23.05  23.30   0.00      12.95   \n",
       "4    0.00  ...   -0.25    4.90   18.40  27.35  23.05   0.00      18.42   \n",
       "..    ...  ...     ...     ...     ...    ...    ...    ...        ...   \n",
       "95   0.00  ...   -0.40   -1.70   -0.25   2.60   2.85   8.34       3.77   \n",
       "96   0.00  ...   -0.25   -0.40   -1.70   2.10   2.60  12.95       3.15   \n",
       "97  18.40  ...   -0.50   -0.25   -0.40 -15.80   2.10  18.42       2.68   \n",
       "98  23.30  ...    0.50   -0.50   -0.25 -21.70 -15.80  25.18       2.35   \n",
       "99  23.05  ...   -1.00    0.50   -0.50 -21.95 -21.70  29.21       2.00   \n",
       "\n",
       "    weighted_MA  exponential_MA  week_day  \n",
       "0      0.000000        0.000000         1  \n",
       "1      6.133333        6.133333         1  \n",
       "2     12.673333       11.855556         1  \n",
       "3     17.576667       15.587037         1  \n",
       "4     22.376667       19.508025         1  \n",
       "..          ...             ...       ...  \n",
       "95     3.283333        2.812757         1  \n",
       "96     2.726667        2.346914         2  \n",
       "97     2.543333        2.213992         2  \n",
       "98     2.183333        1.866667         2  \n",
       "99     1.766667        1.486008         2  \n",
       "\n",
       "[100 rows x 24 columns]"
      ]
     },
     "execution_count": 167,
     "metadata": {},
     "output_type": "execute_result"
    }
   ],
   "source": [
    "traindata.head(100)"
   ]
  },
  {
   "cell_type": "code",
   "execution_count": 169,
   "id": "39e6756a-26a8-48c0-87dc-7ca88701e665",
   "metadata": {},
   "outputs": [],
   "source": [
    "#traindata.to_csv('traindata7.csv', index=False)"
   ]
  },
  {
   "cell_type": "markdown",
   "id": "45cd7562-fbf3-4bdf-8f88-9f502e80c4d1",
   "metadata": {},
   "source": [
    "* simple_MA: which is equal to ([t-5] + [t-4] + [t-3] + [t-2] + [t-1]) / 5\n",
    "* weighted_MA: which is equal to (5\\*[t-1] + 4\\*[t-2] + 3\\*[t-3] + 2\\*[t-4] + 1\\*[t-5]) / 15\n",
    "* exponential_MA: which is equal to alpha \\* { [t-1] + (1-alpha)\\*[t-2] + ((1-alpha)²)\\*x[t-3] + ((1-alpha)³)\\*[t-4] + ((1-alpha)⁴)\\*[t-5] } where alpha = 0.33\n",
    "* week_day: Between 1 and 7 where it is 1 for Monday and 7 for Sunday."
   ]
  },
  {
   "cell_type": "markdown",
   "id": "1d02be16-523d-4129-a705-24a21b168151",
   "metadata": {},
   "source": [
    "We have created **21 new features**. So now we have **total of 23 features**."
   ]
  },
  {
   "cell_type": "markdown",
   "id": "a1cef919-859e-43ba-b575-13951a4a7dab",
   "metadata": {},
   "source": [
    "# Data Pre-processing"
   ]
  },
  {
   "cell_type": "markdown",
   "id": "3bb0bd82-9a52-415a-bd6a-4da368584540",
   "metadata": {},
   "source": [
    "First of all, we need to remove the data points for which some of the features could not be calculated. That means we have to remove the first 98 rows for each location."
   ]
  },
  {
   "cell_type": "code",
   "execution_count": 175,
   "id": "eec2a5c8-b27d-436d-9466-6a0d3ce4fecf",
   "metadata": {},
   "outputs": [],
   "source": [
    "# remove data points for which some of the features could not be caculated.\n",
    "traindata = traindata.query('timestamp >= 1514871000')"
   ]
  },
  {
   "cell_type": "code",
   "execution_count": 176,
   "id": "c6cc0526-715f-489f-ae26-fe45c470308c",
   "metadata": {},
   "outputs": [
    {
     "data": {
      "text/plain": [
       "(3158872, 24)"
      ]
     },
     "execution_count": 176,
     "metadata": {},
     "output_type": "execute_result"
    }
   ],
   "source": [
    "traindata.shape"
   ]
  },
  {
   "cell_type": "code",
   "execution_count": 177,
   "id": "28641391-47b8-4059-a249-1d05deafbed5",
   "metadata": {},
   "outputs": [],
   "source": [
    "#traindata.to_csv('traindata8.csv', index=False)"
   ]
  },
  {
   "cell_type": "markdown",
   "id": "676b90f4-8228-408d-84fa-bffe4e389f09",
   "metadata": {},
   "source": [
    "Then we need to create train and cross-validation data. Since there is a temporal nature. We can't do a random split. We need to divide it based on time."
   ]
  },
  {
   "cell_type": "markdown",
   "id": "5a412a3a-3cc8-4c73-8603-601172130e84",
   "metadata": {},
   "source": [
    "We have used the whole 2018's data for training. And the first four months of 2019 as cross-validation data."
   ]
  },
  {
   "cell_type": "code",
   "execution_count": 179,
   "id": "9e1c7b2a-72b1-4e50-a746-2a87169b7d1f",
   "metadata": {},
   "outputs": [],
   "source": [
    "train = traindata.query('timestamp < 1546318800')"
   ]
  },
  {
   "cell_type": "code",
   "execution_count": 180,
   "id": "1448edd7-912d-4b90-b37e-fd25dbb1d46f",
   "metadata": {},
   "outputs": [],
   "source": [
    "cv = traindata.query('timestamp >= 1546318800')"
   ]
  },
  {
   "cell_type": "code",
   "execution_count": 184,
   "id": "7a43ec84-a0b2-46b7-ad5d-ee7e676ef3c2",
   "metadata": {},
   "outputs": [
    {
     "name": "stdout",
     "output_type": "stream",
     "text": [
      "2375784\n",
      "3.033865925668635\n"
     ]
    }
   ],
   "source": [
    "print(len(train))\n",
    "print(len(train)/len(cv))"
   ]
  },
  {
   "cell_type": "code",
   "execution_count": 25,
   "id": "8f3cf0c6-e926-4747-b3fc-033153f323bf",
   "metadata": {},
   "outputs": [],
   "source": [
    "X_train = train.drop(columns=['counts']).to_numpy()"
   ]
  },
  {
   "cell_type": "code",
   "execution_count": 26,
   "id": "ce4b77fd-dcb4-45b4-a944-816ac91bd0db",
   "metadata": {},
   "outputs": [],
   "source": [
    "y_train = train['counts'].to_numpy()"
   ]
  },
  {
   "cell_type": "code",
   "execution_count": 27,
   "id": "0096c8c2-1666-47fe-85fb-c8bc536d6658",
   "metadata": {},
   "outputs": [],
   "source": [
    "X_cv = cv.drop(columns=['counts']).to_numpy()"
   ]
  },
  {
   "cell_type": "code",
   "execution_count": 28,
   "id": "fb9a5f4d-b432-4a6b-8531-31e7d7c78830",
   "metadata": {},
   "outputs": [],
   "source": [
    "y_cv = cv['counts'].to_numpy()"
   ]
  },
  {
   "cell_type": "code",
   "execution_count": 29,
   "id": "5e2aabb4-24c6-428d-8e78-51ec3429158a",
   "metadata": {},
   "outputs": [],
   "source": [
    "# with open('X_train.npy', 'wb') as f:\n",
    "#     np.save(f, X_train, allow_pickle=True)\n",
    "# with open('y_train.npy', 'wb') as f:\n",
    "#     np.save(f, y_train, allow_pickle=True)\n",
    "# with open('X_cv.npy', 'wb') as f:\n",
    "#     np.save(f, X_cv, allow_pickle=True)\n",
    "# with open('y_cv.npy', 'wb') as f:\n",
    "#     np.save(f, y_cv, allow_pickle=True)"
   ]
  },
  {
   "cell_type": "markdown",
   "id": "acfaff71-27d6-41ac-beb2-1e73fc9a8435",
   "metadata": {},
   "source": [
    "Note that I have not performed any normalization or standardization operation."
   ]
  },
  {
   "cell_type": "markdown",
   "id": "34004892-9aa3-4235-94a4-3d4ee99ced9c",
   "metadata": {
    "tags": []
   },
   "source": [
    "# Training"
   ]
  },
  {
   "cell_type": "markdown",
   "id": "9bd34902-9f98-47c1-a739-e9c871e8b988",
   "metadata": {},
   "source": [
    "## Linear Regression"
   ]
  },
  {
   "cell_type": "markdown",
   "id": "f665fbd4-42c7-426c-a1ab-87c559927134",
   "metadata": {},
   "source": [
    "I trained a simple Linear Regression model without any regularization or hyper-param tuning."
   ]
  },
  {
   "cell_type": "code",
   "execution_count": 70,
   "id": "8a752377-b6b1-46ff-907c-6e4b3fadea16",
   "metadata": {},
   "outputs": [],
   "source": [
    "model = LinearRegression()"
   ]
  },
  {
   "cell_type": "code",
   "execution_count": 71,
   "id": "bba6779c-1e5d-4aa9-a87a-5a46b2919f63",
   "metadata": {},
   "outputs": [
    {
     "data": {
      "text/plain": [
       "LinearRegression()"
      ]
     },
     "execution_count": 71,
     "metadata": {},
     "output_type": "execute_result"
    }
   ],
   "source": [
    "model.fit(X_train, y_train)"
   ]
  },
  {
   "cell_type": "code",
   "execution_count": 72,
   "id": "de0e1f7f-8095-43d5-8e64-ca87984b6a1f",
   "metadata": {},
   "outputs": [],
   "source": [
    "y_pred = model.predict(X_cv)"
   ]
  },
  {
   "cell_type": "code",
   "execution_count": 76,
   "id": "77bec219-b8a2-4b77-a193-6174adf3fd59",
   "metadata": {},
   "outputs": [
    {
     "data": {
      "text/plain": [
       "34.75299212859857"
      ]
     },
     "execution_count": 76,
     "metadata": {},
     "output_type": "execute_result"
    }
   ],
   "source": [
    "np.average(y_cv)"
   ]
  },
  {
   "cell_type": "code",
   "execution_count": 93,
   "id": "c62df439-2546-4f97-9fab-2e7dba0492d3",
   "metadata": {},
   "outputs": [
    {
     "name": "stdout",
     "output_type": "stream",
     "text": [
      "MAPE with zeros =>        74085377888291.94\n",
      "MAPE without zeros =>     0.13647757397815716\n",
      "MAE =>                    2.2953657178141698\n",
      "MAE% =>                   0.06604800269629996\n",
      "R squared =>              0.9918960663612083\n",
      "RMSE =>                   3.93240234243171\n"
     ]
    }
   ],
   "source": [
    "print ('{:<25}'.format('MAPE with zeros => '), mean_absolute_percentage_error(np.round(y_cv), np.round(y_pred)))\n",
    "print ('{:<25}'.format('MAPE without zeros => '), mean_absolute_percentage_error(y_cv[np.round(y_cv)!=0], y_pred[np.round(y_cv)!=0]))\n",
    "print ('{:<25}'.format('MAE => '), mean_absolute_error(y_cv, y_pred))\n",
    "print ('{:<25}'.format('MAE% => '), mean_absolute_error(y_cv, y_pred)/np.average(y_cv))\n",
    "print ('{:<25}'.format('R squared => '), r2_score(y_cv, y_pred))\n",
    "print ('{:<25}'.format('RMSE => '), mean_squared_error(y_cv, y_pred, squared=False))"
   ]
  },
  {
   "cell_type": "markdown",
   "id": "2af151af-445d-4ddc-b4ff-84e9179c9c86",
   "metadata": {},
   "source": [
    "The MAPE on whole cross-validation data is absurd. It's in trillions. <br>\n",
    "But if we calculate MAPE for only non-zero outputs, it's 0.1365. That's why we can not rely on MAPE if the actual outputs are zeros or very small values.<p>\n",
    "The MAE is 2.23, to conclude whether it is good we need to know the average actual outputs. The average actual cv output is 34.75, which means the MAE is sensible. The MAE% is 6.60%, which is good. <p>\n",
    "RMSE also looks good. And the R² is very close to 1."
   ]
  },
  {
   "cell_type": "code",
   "execution_count": 94,
   "id": "db4d55f3-fff9-4e97-8729-50c68addbeb4",
   "metadata": {},
   "outputs": [
    {
     "data": {
      "text/plain": [
       "['tdiff1',\n",
       " 't-1',\n",
       " 'ty1',\n",
       " 'dt-1',\n",
       " 'exponential_MA',\n",
       " 'weighted_MA',\n",
       " 'week_day',\n",
       " 'tdiff2',\n",
       " 't-2',\n",
       " 'simple_MA']"
      ]
     },
     "execution_count": 94,
     "metadata": {},
     "output_type": "execute_result"
    }
   ],
   "source": [
    "list(features[np.argsort(np.abs(model.coef_))[::-1][:10]])"
   ]
  },
  {
   "cell_type": "markdown",
   "id": "01ff4747-3470-4af6-a589-f4c9c47575fc",
   "metadata": {},
   "source": [
    "These are the top 10 important features for the Linear Regression model in descending order. All of them seem very intuitive."
   ]
  },
  {
   "cell_type": "code",
   "execution_count": 82,
   "id": "c7d53403-c7cc-4bb1-84d8-e9904fea23a4",
   "metadata": {},
   "outputs": [
    {
     "data": {
      "text/plain": [
       "['LinearRegression.joblib']"
      ]
     },
     "execution_count": 82,
     "metadata": {},
     "output_type": "execute_result"
    }
   ],
   "source": [
    "# dump(model, 'LinearRegression.joblib') "
   ]
  },
  {
   "cell_type": "markdown",
   "id": "3e4b32c5-f43f-4393-b87a-6aceb2cc23cc",
   "metadata": {},
   "source": [
    "## XGBoost Regressor"
   ]
  },
  {
   "cell_type": "markdown",
   "id": "205aa098-3c17-4db0-ad3d-19c989a8d91c",
   "metadata": {},
   "source": [
    "To tune the XGboost Regressor, I have used hyperopt which usage bayesian optimisation technique."
   ]
  },
  {
   "cell_type": "code",
   "execution_count": 130,
   "id": "7ff64fd9-7f66-451e-a200-d6d52da74a2f",
   "metadata": {},
   "outputs": [],
   "source": [
    "def objective(space):\n",
    "    warnings.filterwarnings(action='ignore', category=UserWarning)\n",
    "    model = xgb.XGBRegressor(\n",
    "                    objective = \"reg:squarederror\",\n",
    "                    eval_metric = \"mae\",\n",
    "                    booster = \"gbtree\",\n",
    "                    tree_method = \"hist\",\n",
    "                    grow_policy = \"lossguide\",\n",
    "                    n_estimators = space['n_estimators'], \n",
    "                    max_depth = space['max_depth'],\n",
    "                    learning_rate = space['learning_rate'],\n",
    "                    reg_lambda = space['reg_lambda'],\n",
    "                )\n",
    "    model.fit(X_train, y_train)\n",
    "    y_pred = model.predict(X_cv)\n",
    "    mae = mean_absolute_error(y_cv, y_pred)\n",
    "    print(\"MAE = \" + str(mae))\n",
    "    return{'loss':mae, 'status': STATUS_OK, 'model': model, 'params': space }"
   ]
  },
  {
   "cell_type": "code",
   "execution_count": 131,
   "id": "ede6b423-d9b1-451d-8a43-b8e5826fe31f",
   "metadata": {},
   "outputs": [],
   "source": [
    "space = {\n",
    "    'n_estimators' : hp.choice('n_estimators', [30, 50, 100, 150]),\n",
    "    'max_depth' : hp.choice('max_depth', range(3, 10, 1)),\n",
    "    \"learning_rate\": hp.quniform(\"learning_rate\", 0.01, 0.5, 0.01),\n",
    "    \"reg_lambda\": hp.choice(\"reg_lambda\", [10e-1, 10e0, 10e1])\n",
    "}"
   ]
  },
  {
   "cell_type": "code",
   "execution_count": 139,
   "id": "c4373215-7af1-4c08-8165-18a1c86e7769",
   "metadata": {},
   "outputs": [
    {
     "name": "stdout",
     "output_type": "stream",
     "text": [
      "MAE = 2.1861080964500945                                                        \n",
      "MAE = 2.427236967800652                                                         \n",
      "MAE = 2.280956279922865                                                         \n",
      "MAE = 2.706358085010343                                                         \n",
      "MAE = 2.2476748461558063                                                        \n",
      "MAE = 2.2329497170745176                                                        \n",
      "MAE = 2.1972972593635265                                                        \n",
      "MAE = 2.8214913103704373                                                        \n",
      "MAE = 2.2459322762994685                                                        \n",
      "MAE = 2.2041174521900855                                                        \n",
      "MAE = 2.2596493844827577                                                        \n",
      "MAE = 2.4278022332078595                                                        \n",
      "MAE = 2.2058584188619736                                                        \n",
      "MAE = 2.296934185578487                                                         \n",
      "MAE = 2.2160169915002856                                                        \n",
      "MAE = 2.2138418381354814                                                        \n",
      "MAE = 2.2617981217861867                                                        \n",
      "MAE = 2.191372761689068                                                         \n",
      "MAE = 2.5552757519468408                                                        \n",
      "MAE = 2.153022961373042                                                         \n",
      "MAE = 2.2334811006564794                                                        \n",
      "MAE = 2.1720871794098136                                                        \n",
      "MAE = 2.1720871794098136                                                        \n",
      "MAE = 2.262833233137856                                                         \n",
      "MAE = 3.3819453542441416                                                        \n",
      "100%|██████████| 25/25 [06:04<00:00, 14.56s/trial, best loss: 2.153022961373042]\n"
     ]
    }
   ],
   "source": [
    "trials = Trials()\n",
    "best = fmin(fn=objective,\n",
    "            space=space,\n",
    "            algo=tpe.suggest,\n",
    "            max_evals=25,\n",
    "            trials=trials)"
   ]
  },
  {
   "cell_type": "code",
   "execution_count": 146,
   "id": "8d322160-9528-4387-b948-e1d0c2eb59a1",
   "metadata": {},
   "outputs": [
    {
     "data": {
      "text/plain": [
       "{'learning_rate': 0.09, 'max_depth': 8, 'n_estimators': 100, 'reg_lambda': 1.0}"
      ]
     },
     "execution_count": 146,
     "metadata": {},
     "output_type": "execute_result"
    }
   ],
   "source": [
    "trials.best_trial['result']['params']"
   ]
  },
  {
   "cell_type": "markdown",
   "id": "fd2d3340-143f-455a-81ae-96ebce1118d6",
   "metadata": {},
   "source": [
    "After tuning I found the best hyper-parameters as {'learning_rate': 0.09, 'max_depth': 8, 'n_estimators': 100, 'reg_lambda': 1.0} which reduces the MAE to 2.15."
   ]
  },
  {
   "cell_type": "code",
   "execution_count": 147,
   "id": "e153cf3f-c095-47de-bd38-448efce748f7",
   "metadata": {},
   "outputs": [],
   "source": [
    "model = trials.best_trial['result']['model']"
   ]
  },
  {
   "cell_type": "code",
   "execution_count": 148,
   "id": "f317d919-39b9-4283-9ace-689546c76171",
   "metadata": {},
   "outputs": [
    {
     "data": {
      "text/plain": [
       "XGBRegressor(base_score=0.5, booster='gbtree', colsample_bylevel=1,\n",
       "             colsample_bynode=1, colsample_bytree=1, eval_metric='mae', gamma=0,\n",
       "             gpu_id=-1, grow_policy='lossguide', importance_type='gain',\n",
       "             interaction_constraints='', learning_rate=0.09, max_delta_step=0,\n",
       "             max_depth=8, min_child_weight=1, missing=nan,\n",
       "             monotone_constraints='()', n_estimators=100, n_jobs=8,\n",
       "             num_parallel_tree=1, random_state=0, reg_alpha=0, reg_lambda=1.0,\n",
       "             scale_pos_weight=1, subsample=1, tree_method='hist',\n",
       "             validate_parameters=1, verbosity=None)"
      ]
     },
     "execution_count": 148,
     "metadata": {},
     "output_type": "execute_result"
    }
   ],
   "source": [
    "model"
   ]
  },
  {
   "cell_type": "code",
   "execution_count": 149,
   "id": "c416f252-75dc-4b95-9ee6-1e00de2f284d",
   "metadata": {},
   "outputs": [],
   "source": [
    "y_pred = model.predict(X_cv)"
   ]
  },
  {
   "cell_type": "code",
   "execution_count": 150,
   "id": "471c724a-26b9-4e6b-a8ea-298a52198894",
   "metadata": {},
   "outputs": [
    {
     "data": {
      "text/plain": [
       "34.75299212859857"
      ]
     },
     "execution_count": 150,
     "metadata": {},
     "output_type": "execute_result"
    }
   ],
   "source": [
    "np.average(y_cv)"
   ]
  },
  {
   "cell_type": "code",
   "execution_count": 151,
   "id": "9d3c270b-8d71-454a-a11f-2826fc195184",
   "metadata": {},
   "outputs": [
    {
     "name": "stdout",
     "output_type": "stream",
     "text": [
      "MAPE with zeros =>        43420633679289.266\n",
      "MAPE without zeros =>     0.1222785248643494\n",
      "MAE =>                    2.153022961373042\n",
      "MAE% =>                   0.06195216093641902\n",
      "R squared =>              0.9926409973118548\n",
      "RMSE =>                   3.7473088512663644\n"
     ]
    }
   ],
   "source": [
    "print ('{:<25}'.format('MAPE with zeros => '), mean_absolute_percentage_error(np.round(y_cv), np.round(y_pred)))\n",
    "print ('{:<25}'.format('MAPE without zeros => '), mean_absolute_percentage_error(y_cv[np.round(y_cv)!=0], y_pred[np.round(y_cv)!=0]))\n",
    "print ('{:<25}'.format('MAE => '), mean_absolute_error(y_cv, y_pred))\n",
    "print ('{:<25}'.format('MAE% => '), mean_absolute_error(y_cv, y_pred)/np.average(y_cv))\n",
    "print ('{:<25}'.format('R squared => '), r2_score(y_cv, y_pred))\n",
    "print ('{:<25}'.format('RMSE => '), mean_squared_error(y_cv, y_pred, squared=False))"
   ]
  },
  {
   "cell_type": "markdown",
   "id": "55e1cbd2-474b-4c41-ac0d-0ec5ec9c8fb6",
   "metadata": {},
   "source": [
    "The performance is very similar to the previous model. There isn't any significant improvement."
   ]
  },
  {
   "cell_type": "code",
   "execution_count": 152,
   "id": "396a9e6a-c56f-49db-a1c3-17c1e2f94c42",
   "metadata": {},
   "outputs": [
    {
     "data": {
      "text/plain": [
       "['XGBRegressor.joblib']"
      ]
     },
     "execution_count": 152,
     "metadata": {},
     "output_type": "execute_result"
    }
   ],
   "source": [
    "# dump(model, 'XGBRegressor.joblib') "
   ]
  },
  {
   "cell_type": "code",
   "execution_count": 155,
   "id": "dad0dfcf-a151-4623-ba4b-c4f3f9e8115a",
   "metadata": {},
   "outputs": [
    {
     "data": {
      "text/plain": [
       "['t-1',\n",
       " 'tdiff1',\n",
       " 'dt+2',\n",
       " 't-5',\n",
       " 'exponential_MA',\n",
       " 'dt+1',\n",
       " 'ty1',\n",
       " 'simple_MA',\n",
       " 'location',\n",
       " 'week_day']"
      ]
     },
     "execution_count": 155,
     "metadata": {},
     "output_type": "execute_result"
    }
   ],
   "source": [
    "list(features[np.argsort(np.abs(model.feature_importances_))[::-1][:10]])"
   ]
  },
  {
   "cell_type": "markdown",
   "id": "3d6607a0-881b-4ccb-8de4-96ea0ed593cf",
   "metadata": {},
   "source": [
    "These are the top 10 important features for the XGBoost Regressor model in descending order. <p>\n",
    "An interesting thing to note here is that t-5 is getting more importance than t-2, t-3, and t-4. <p>\n",
    "The location feature in the top ten was also a surprise to me considering that we have more interesting features. But it's in there that means there is a difference in counts based on the location."
   ]
  },
  {
   "cell_type": "markdown",
   "id": "1ed2b684-148a-48f0-9c61-e1b4d9cb1b2a",
   "metadata": {},
   "source": [
    "## LSTM (Long Short Term Memory)"
   ]
  },
  {
   "cell_type": "markdown",
   "id": "93bc833f-743b-4ae2-8a1a-fd0fcfa4299d",
   "metadata": {},
   "source": [
    "When it comes to sequence of data, whether it is text data or time-series data. The LSTM has been the default choice. <p>\n",
    "The LSTM is a deep learning model which is an improvement over the traditional RNN (Recurrent Neural Network). The RNN suffers from a short-term memory problem which was solved in LSTM.<p>\n",
    "The LSTM will not use the traditional features that we have been using till now.<p>\n",
    "For LSTM, we will provide the last 100 time interval's counts as input sequence. And hopefully, the LSTM will recognize the pattern. So we need to create new data."
   ]
  },
  {
   "cell_type": "markdown",
   "id": "da688998-bcae-4195-87fa-d9b6647219a8",
   "metadata": {},
   "source": [
    "### Featurization"
   ]
  },
  {
   "cell_type": "code",
   "execution_count": 3,
   "id": "a7aab12e-0547-41c1-ac4e-3a975852c27d",
   "metadata": {},
   "outputs": [],
   "source": [
    "# traindata = pd.read_csv('traindata7.csv')"
   ]
  },
  {
   "cell_type": "code",
   "execution_count": 5,
   "id": "114ae0f7-3590-445e-a0b6-010e035adc58",
   "metadata": {},
   "outputs": [],
   "source": [
    "def feature4(data):\n",
    "    pd.options.mode.chained_assignment = None\n",
    "    inp = []\n",
    "    for i in tqdm(np.sort(data.location.unique())):\n",
    "        temp = data[data.location == i]\n",
    "        for j in range(len(temp)):\n",
    "            inp_temp = temp.iloc[j-100:j].counts\n",
    "            inp_temp\n",
    "            inp.append(inp_temp)\n",
    "    data['inp'] = inp\n",
    "    return data"
   ]
  },
  {
   "cell_type": "code",
   "execution_count": 5,
   "id": "3d95cb3c-7aba-42e7-9771-006f343e1437",
   "metadata": {},
   "outputs": [
    {
     "name": "stderr",
     "output_type": "stream",
     "text": [
      "100%|███████████████████████████████████████████| 68/68 [04:04<00:00,  3.59s/it]\n"
     ]
    }
   ],
   "source": [
    "traindata = feature4(traindata)"
   ]
  },
  {
   "cell_type": "code",
   "execution_count": 3,
   "id": "5d6d7ea6-ef49-4958-80e0-43a9fa9bcab8",
   "metadata": {},
   "outputs": [],
   "source": [
    "# traindata = pd.read_csv('traindata9.csv')"
   ]
  },
  {
   "cell_type": "code",
   "execution_count": 12,
   "id": "412418bb-b156-481d-8062-f5380e1c4d21",
   "metadata": {},
   "outputs": [],
   "source": [
    "traindata = traindata.query('timestamp >= 1514872800')"
   ]
  },
  {
   "cell_type": "code",
   "execution_count": 13,
   "id": "e600a4d7-ef26-4565-9e67-f202fd16c9de",
   "metadata": {},
   "outputs": [],
   "source": [
    "train = traindata.query('timestamp < 1546318800')"
   ]
  },
  {
   "cell_type": "code",
   "execution_count": 14,
   "id": "9eb546d4-4b6c-4ecf-aeda-23e99fa19451",
   "metadata": {},
   "outputs": [],
   "source": [
    "cv = traindata.query('timestamp >= 1546318800')"
   ]
  },
  {
   "cell_type": "code",
   "execution_count": 15,
   "id": "4e5ce7fe-127b-4b8f-8943-1cf6bbf60c17",
   "metadata": {},
   "outputs": [
    {
     "name": "stdout",
     "output_type": "stream",
     "text": [
      "2375648\n",
      "783088\n"
     ]
    }
   ],
   "source": [
    "print(len(train))\n",
    "print(len(cv))"
   ]
  },
  {
   "cell_type": "code",
   "execution_count": 75,
   "id": "612bae11-064f-499d-809b-3300e9ed390b",
   "metadata": {},
   "outputs": [],
   "source": [
    "# new train data\n",
    "X_train = []\n",
    "for i in range(len(train)):\n",
    "    X_train.append([train['inp'].iloc[i].to_list()])\n",
    "X_train = np.array(X_train)\n",
    "y_train = train['counts'].to_numpy()"
   ]
  },
  {
   "cell_type": "code",
   "execution_count": 83,
   "id": "26c47bdf-61a5-4624-ac9c-4cf8e3521fed",
   "metadata": {},
   "outputs": [],
   "source": [
    "# new cv data\n",
    "X_cv = []\n",
    "for i in range(len(cv)):\n",
    "    X_cv.append([cv['inp'].iloc[i].to_list()])\n",
    "X_cv = np.array(X_cv)\n",
    "y_cv = cv['counts']"
   ]
  },
  {
   "cell_type": "markdown",
   "id": "80f1d9d4-d4be-43b3-bf3b-080218736421",
   "metadata": {},
   "source": [
    "### Training LSTM"
   ]
  },
  {
   "cell_type": "code",
   "execution_count": 5,
   "id": "666a699c-983a-41f4-ad72-bd496648faf3",
   "metadata": {},
   "outputs": [],
   "source": [
    "# to support GPU\n",
    "gpus = tf.config.list_physical_devices('GPU')\n",
    "if gpus:\n",
    "    # Restrict TensorFlow to only use the first GPU\n",
    "    try:\n",
    "        tf.config.set_visible_devices(gpus[0], 'GPU')\n",
    "        logical_gpus = tf.config.list_logical_devices('GPU')\n",
    "    except RuntimeError as e:\n",
    "        # Visible devices must be set before GPUs have been initialized\n",
    "        print(e)"
   ]
  },
  {
   "cell_type": "code",
   "execution_count": 5,
   "id": "384e73c2-e8ef-40ed-888a-0d23226e7b8e",
   "metadata": {},
   "outputs": [
    {
     "name": "stdout",
     "output_type": "stream",
     "text": [
      "WARNING:tensorflow:Layer lstm will not use cuDNN kernels since it doesn't meet the criteria. It will use a generic GPU kernel as fallback when running on GPU.\n",
      "WARNING:tensorflow:Layer lstm_1 will not use cuDNN kernels since it doesn't meet the criteria. It will use a generic GPU kernel as fallback when running on GPU.\n"
     ]
    }
   ],
   "source": [
    "model = keras.Sequential()\n",
    "model.add(keras.Input(shape=(1, 100)))\n",
    "model.add(layers.LSTM(64, activation='relu', return_sequences=True))\n",
    "model.add(layers.LSTM(64, activation='relu', return_sequences=False))\n",
    "model.add(layers.Dense(1))"
   ]
  },
  {
   "cell_type": "code",
   "execution_count": 6,
   "id": "505669a0-1387-4ebc-b9cb-8d92a7a5e6a8",
   "metadata": {},
   "outputs": [
    {
     "name": "stdout",
     "output_type": "stream",
     "text": [
      "Model: \"sequential\"\n",
      "_________________________________________________________________\n",
      "Layer (type)                 Output Shape              Param #   \n",
      "=================================================================\n",
      "lstm (LSTM)                  (None, 1, 64)             42240     \n",
      "_________________________________________________________________\n",
      "lstm_1 (LSTM)                (None, 64)                33024     \n",
      "_________________________________________________________________\n",
      "dense (Dense)                (None, 1)                 65        \n",
      "=================================================================\n",
      "Total params: 75,329\n",
      "Trainable params: 75,329\n",
      "Non-trainable params: 0\n",
      "_________________________________________________________________\n"
     ]
    }
   ],
   "source": [
    "model.summary()"
   ]
  },
  {
   "cell_type": "markdown",
   "id": "89d2641d-2daf-47bc-ab4e-b7d9dfaf5c4d",
   "metadata": {},
   "source": [
    "We have two LSTM layers, one after another. Each has 64 ReLU activation units. The last layer is a dense layer with only one ReLU activation unit."
   ]
  },
  {
   "cell_type": "code",
   "execution_count": 7,
   "id": "188f34c1-3ab7-4fde-84eb-83e1935680ab",
   "metadata": {},
   "outputs": [],
   "source": [
    "model.compile(\n",
    "  loss='mean_absolute_error',\n",
    "  optimizer=keras.optimizers.Adam()\n",
    ")"
   ]
  },
  {
   "cell_type": "code",
   "execution_count": 8,
   "id": "a0e00404-5c11-4c82-9d70-4ee86ad1d193",
   "metadata": {},
   "outputs": [],
   "source": [
    "callback = keras.callbacks.EarlyStopping(monitor='val_loss', patience=3, restore_best_weights=True)"
   ]
  },
  {
   "cell_type": "markdown",
   "id": "174e30f3-7fb8-4ff7-af63-c3b59e4e5f91",
   "metadata": {},
   "source": [
    "I have used Adam optimizer which will minimize the MAE loss.<p>\n",
    "I have also added an early stopping callback which will monitor the validation loss and will stop the training if it's not decreasing."
   ]
  },
  {
   "cell_type": "code",
   "execution_count": 12,
   "id": "2f31ed40-d993-425c-ab0a-b02b794ffb2b",
   "metadata": {},
   "outputs": [
    {
     "name": "stderr",
     "output_type": "stream",
     "text": [
      "2021-10-06 22:33:45.235021: W tensorflow/core/framework/cpu_allocator_impl.cc:80] Allocation of 950259200 exceeds 10% of free system memory.\n",
      "2021-10-06 22:33:45.758472: W tensorflow/core/framework/cpu_allocator_impl.cc:80] Allocation of 950259200 exceeds 10% of free system memory.\n",
      "2021-10-06 22:33:46.156723: I tensorflow/compiler/mlir/mlir_graph_optimization_pass.cc:185] None of the MLIR Optimization Passes are enabled (registered 2)\n"
     ]
    },
    {
     "name": "stdout",
     "output_type": "stream",
     "text": [
      "Epoch 1/20\n",
      "37120/37120 [==============================] - 196s 5ms/step - loss: 2.7157 - val_loss: 2.8321\n",
      "Epoch 2/20\n",
      "37120/37120 [==============================] - 195s 5ms/step - loss: 2.4982 - val_loss: 2.5859\n",
      "Epoch 3/20\n",
      "37120/37120 [==============================] - 159s 4ms/step - loss: 2.4528 - val_loss: 2.4293\n",
      "Epoch 4/20\n",
      "37120/37120 [==============================] - 159s 4ms/step - loss: 2.4448 - val_loss: 2.5737\n",
      "Epoch 5/20\n",
      "37120/37120 [==============================] - 173s 5ms/step - loss: 2.4350 - val_loss: 2.4016\n",
      "Epoch 6/20\n",
      "37120/37120 [==============================] - 208s 6ms/step - loss: 2.4201 - val_loss: 2.3561\n",
      "Epoch 7/20\n",
      "37120/37120 [==============================] - 189s 5ms/step - loss: 2.4329 - val_loss: 2.5015\n",
      "Epoch 8/20\n",
      "37120/37120 [==============================] - 157s 4ms/step - loss: 2.3939 - val_loss: 2.4736\n",
      "Epoch 9/20\n",
      "37120/37120 [==============================] - 158s 4ms/step - loss: 2.3978 - val_loss: 2.4855\n"
     ]
    }
   ],
   "source": [
    "history = model.fit(X_train, y_train,\n",
    "                    epochs=20,\n",
    "                    validation_data=(X_cv, y_cv),\n",
    "                    callbacks=[callback],\n",
    "                    shuffle=False,\n",
    "                    batch_size=64)"
   ]
  },
  {
   "cell_type": "code",
   "execution_count": 21,
   "id": "7757ec88-1312-433f-9746-11bf9da4e546",
   "metadata": {},
   "outputs": [
    {
     "data": {
      "image/png": "[encoded data removed]",
      "text/plain": [
       "<Figure size 432x288 with 1 Axes>"
      ]
     },
     "metadata": {
      "needs_background": "light"
     },
     "output_type": "display_data"
    }
   ],
   "source": [
    "loss = history.history['loss']\n",
    "val_loss = history.history['val_loss']\n",
    "\n",
    "plt.plot(loss, label='Training Loss')\n",
    "plt.plot(val_loss, label='Validation Loss')\n",
    "plt.legend(loc='upper right')\n",
    "plt.ylabel('MAE')\n",
    "plt.title('Validation Loss')\n",
    "plt.xlabel('epoch')\n",
    "plt.show()"
   ]
  },
  {
   "cell_type": "markdown",
   "id": "eb64e724-a820-45aa-ab53-ca2204ad2b54",
   "metadata": {},
   "source": [
    "After 9 epochs we converged to a sensible value."
   ]
  },
  {
   "cell_type": "code",
   "execution_count": 13,
   "id": "80895fdc-3fac-44bb-885c-3aaed9e36a2f",
   "metadata": {},
   "outputs": [],
   "source": [
    "y_pred = model.predict(X_cv)"
   ]
  },
  {
   "cell_type": "code",
   "execution_count": 14,
   "id": "6c4a5518-9fa5-4f5f-832a-b196629551d2",
   "metadata": {},
   "outputs": [
    {
     "data": {
      "text/plain": [
       "34.75299212859857"
      ]
     },
     "execution_count": 14,
     "metadata": {},
     "output_type": "execute_result"
    }
   ],
   "source": [
    "np.average(y_cv)"
   ]
  },
  {
   "cell_type": "code",
   "execution_count": 15,
   "id": "1b05422e-abc9-453d-9a9a-e3d08e797b80",
   "metadata": {},
   "outputs": [
    {
     "name": "stdout",
     "output_type": "stream",
     "text": [
      "MAPE with zeros =>        62272665096601.875\n",
      "MAPE without zeros =>     0.14245882040187904\n",
      "MAE =>                    2.3561169950788976\n",
      "MAE% =>                   0.0677960903728927\n",
      "R squared =>              0.9911530440567133\n",
      "RMSE =>                   4.1087237303885145\n"
     ]
    }
   ],
   "source": [
    "print ('{:<25}'.format('MAPE with zeros => '), mean_absolute_percentage_error(np.round(y_cv), np.round(y_pred)))\n",
    "print ('{:<25}'.format('MAPE without zeros => '), mean_absolute_percentage_error(y_cv[np.round(y_cv)!=0], y_pred[np.round(y_cv)!=0]))\n",
    "print ('{:<25}'.format('MAE => '), mean_absolute_error(y_cv, y_pred))\n",
    "print ('{:<25}'.format('MAE% => '), mean_absolute_error(y_cv, y_pred)/np.average(y_cv))\n",
    "print ('{:<25}'.format('R squared => '), r2_score(y_cv, y_pred))\n",
    "print ('{:<25}'.format('RMSE => '), mean_squared_error(y_cv, y_pred, squared=False))"
   ]
  },
  {
   "cell_type": "markdown",
   "id": "bdb905a8-7541-4bbc-ba0e-b1e75db13a5b",
   "metadata": {},
   "source": [
    "The performance is worse than the other two models. We might be able to improve with more fine-tuning or increasing the sequence length."
   ]
  },
  {
   "cell_type": "code",
   "execution_count": 22,
   "id": "9d855d34-9414-42b0-96ca-cde27c4a61c6",
   "metadata": {},
   "outputs": [],
   "source": [
    "# model.save('model.h5')"
   ]
  },
  {
   "cell_type": "markdown",
   "id": "b721bd05-c5bf-4e4a-a80b-9d595c88fca4",
   "metadata": {},
   "source": [
    "# Test Data Generation and Pre-processing"
   ]
  },
  {
   "cell_type": "markdown",
   "id": "1de2dc7d-34a2-4f59-9f8b-cabda1a44ba0",
   "metadata": {},
   "source": [
    "Till now we have used only the training data. For testing, we need to perform all the steps that we did earlier on raw test data as well. <p>\n",
    "The raw test data is the data of last 8 months of 2019.<p>\n",
    "In this section, I have performed all the data formatting, feature extraction, and featurization steps."
   ]
  },
  {
   "cell_type": "code",
   "execution_count": 3,
   "id": "91afed55-e785-4919-adf8-63aac33c3bcf",
   "metadata": {},
   "outputs": [],
   "source": [
    "testdatas = []\n",
    "for year in [2019]:\n",
    "    for month in range (1,13):\n",
    "        if month > 4:\n",
    "            gc.collect()\n",
    "            filename = 'yellow_tripdata_'+str(year)+'-'+str(month).zfill(2)+'.csv'\n",
    "            testdatas.append(pd.read_csv('data/'+filename))\n",
    "testdata = pd.concat(testdatas, ignore_index=True)\n",
    "testdata.to_csv('testdata_.csv', index=False)"
   ]
  },
  {
   "cell_type": "code",
   "execution_count": 6,
   "id": "dcd35471-9aee-46f8-91e4-bcb82737a954",
   "metadata": {},
   "outputs": [],
   "source": [
    "zones = pd.read_csv('taxi+_zone_lookup.csv')\n",
    "manhattan_loc = zones[zones.Borough=='Manhattan'].LocationID.values\n",
    "testdata = testdata[testdata.PULocationID.isin(manhattan_loc)]"
   ]
  },
  {
   "cell_type": "code",
   "execution_count": 7,
   "id": "b1c87129-3921-482c-8618-51ce887adf26",
   "metadata": {},
   "outputs": [
    {
     "name": "stderr",
     "output_type": "stream",
     "text": [
      "100%|███████████████████████████| 49289352/49289352 [07:35<00:00, 108091.77it/s]\n"
     ]
    }
   ],
   "source": [
    "year = []\n",
    "month = []\n",
    "day = []\n",
    "timestamp = []\n",
    "for date in tqdm(testdata.tpep_pickup_datetime.values):\n",
    "    date = datetime.strptime(date, \"%Y-%m-%d %H:%M:%S\")\n",
    "    year.append(date.year)\n",
    "    month.append(date.month)    \n",
    "    day.append(date.day)  \n",
    "    timestamp.append(int(datetime.timestamp(date)))\n",
    "testdata['timestamp'] = testdata.tpep_pickup_datetime.apply(\n",
    "                            lambda x: int(datetime.timestamp(datetime.strptime(x, \"%Y-%m-%d %H:%M:%S\")))\n",
    "                        )\n",
    "testdata['month'] = testdata.tpep_pickup_datetime.apply(\n",
    "                        lambda x: datetime.strptime(x, \"%Y-%m-%d %H:%M:%S\").month\n",
    "                    )\n",
    "testdata['day'] = testdata.tpep_pickup_datetime.apply(\n",
    "                        lambda x: datetime.strptime(x, \"%Y-%m-%d %H:%M:%S\").day\n",
    "                    )\n",
    "testdata.drop(columns='tpep_pickup_datetime', inplace=True)"
   ]
  },
  {
   "cell_type": "code",
   "execution_count": 3,
   "id": "6eb1873f-a425-4e9c-9598-fad46536b8d1",
   "metadata": {},
   "outputs": [],
   "source": [
    "#testdata = pd.read_csv('testdata3.csv')"
   ]
  },
  {
   "cell_type": "code",
   "execution_count": 8,
   "id": "df370d90-3f5a-4ba8-a246-773fe499816c",
   "metadata": {},
   "outputs": [],
   "source": [
    "testdataGrouped = testdata.groupby('PULocationID')"
   ]
  },
  {
   "cell_type": "code",
   "execution_count": 12,
   "id": "fdfa36ab-bc0f-4036-a6ca-c616ce72857b",
   "metadata": {},
   "outputs": [
    {
     "name": "stderr",
     "output_type": "stream",
     "text": [
      "100%|█████████████████████████████████████████| 67/67 [1:25:56<00:00, 76.97s/it]\n"
     ]
    }
   ],
   "source": [
    "data = []\n",
    "i=0\n",
    "for group_name in tqdm(testdataGrouped.groups.keys()):   \n",
    "    startdate = '2019-05-01 00:00:00';\n",
    "    startdate = datetime.strptime(startdate, \"%Y-%m-%d %H:%M:%S\")\n",
    "    tempdata = testdataGrouped.get_group(group_name)\n",
    "    while startdate < datetime.strptime('2019-12-31 23:59:59', \"%Y-%m-%d %H:%M:%S\"):\n",
    "        enddate = startdate + timedelta(minutes=15)\n",
    "        startdate_timestamp = int(datetime.timestamp(startdate))\n",
    "        enddate_timestamp = int(datetime.timestamp(enddate))\n",
    "        month = startdate.month\n",
    "        day = startdate.day\n",
    "        tempdata1 = tempdata.loc[(tempdata['month']==month) & (tempdata['day']==day), ['timestamp']]\n",
    "        count = len(tempdata1.query('timestamp >= '+str(startdate_timestamp)+' ' \\\n",
    "                           + 'and timestamp < '+str(enddate_timestamp)))\n",
    "        data.append((group_name, startdate_timestamp, count))\n",
    "        startdate = enddate"
   ]
  },
  {
   "cell_type": "code",
   "execution_count": 13,
   "id": "22c6c2f0-c087-48e1-93fd-17e5ba22fea1",
   "metadata": {},
   "outputs": [],
   "source": [
    "testdata = pd.DataFrame(data, columns=['location', 'timestamp', 'counts'])"
   ]
  },
  {
   "cell_type": "code",
   "execution_count": 20,
   "id": "3050553e-c287-4075-9317-3dd81da6be3a",
   "metadata": {},
   "outputs": [
    {
     "name": "stderr",
     "output_type": "stream",
     "text": [
      "100%|███████████████████████████████████████████| 67/67 [17:00<00:00, 15.23s/it]\n"
     ]
    }
   ],
   "source": [
    "testdata = feature1(testdata)"
   ]
  },
  {
   "cell_type": "code",
   "execution_count": 21,
   "id": "9e186314-d7b5-413f-bb72-c3b1494fb99e",
   "metadata": {},
   "outputs": [],
   "source": [
    "testdata = feature2(testdata)"
   ]
  },
  {
   "cell_type": "code",
   "execution_count": 22,
   "id": "eddaed8f-b26c-4d8d-8c5b-a989cf3840d9",
   "metadata": {},
   "outputs": [],
   "source": [
    "testdata = feature3(testdata)"
   ]
  },
  {
   "cell_type": "code",
   "execution_count": 27,
   "id": "5835708b-9a48-47eb-8986-23df0823399d",
   "metadata": {},
   "outputs": [],
   "source": [
    "testdata = testdata.query('timestamp >= 1556771400')"
   ]
  },
  {
   "cell_type": "code",
   "execution_count": 28,
   "id": "ebbf94a9-eb09-4280-97ea-8e07e89cd093",
   "metadata": {},
   "outputs": [
    {
     "data": {
      "text/plain": [
       "(1569274, 24)"
      ]
     },
     "execution_count": 28,
     "metadata": {},
     "output_type": "execute_result"
    }
   ],
   "source": [
    "testdata.shape"
   ]
  },
  {
   "cell_type": "code",
   "execution_count": 29,
   "id": "6008cfbf-bd17-4986-9580-2338c90a7a32",
   "metadata": {},
   "outputs": [],
   "source": [
    "# testdata.to_csv('testdata4.csv', index=False)"
   ]
  },
  {
   "cell_type": "code",
   "execution_count": 30,
   "id": "d3c09a63-8af6-4bbb-ba1f-6b61b4f1254a",
   "metadata": {},
   "outputs": [],
   "source": [
    "X_test = testdata.drop(columns=['counts']).to_numpy()"
   ]
  },
  {
   "cell_type": "code",
   "execution_count": 31,
   "id": "2d6461ab-376e-48ad-b189-037071a91529",
   "metadata": {},
   "outputs": [],
   "source": [
    "y_test = testdata['counts'].to_numpy()"
   ]
  },
  {
   "cell_type": "code",
   "execution_count": 33,
   "id": "dac009b3-dc51-489e-b62c-117639f76d5a",
   "metadata": {},
   "outputs": [],
   "source": [
    "# with open('X_test.npy', 'wb') as f:\n",
    "#     np.save(f, X_test, allow_pickle=True)\n",
    "# with open('y_test.npy', 'wb') as f:\n",
    "#     np.save(f, y_test, allow_pickle=True)"
   ]
  },
  {
   "cell_type": "code",
   "execution_count": 3,
   "id": "be2954a8-be32-4e29-876f-200ff7b1d0b9",
   "metadata": {},
   "outputs": [],
   "source": [
    "testdata = pd.read_csv('testdata4.csv')"
   ]
  },
  {
   "cell_type": "code",
   "execution_count": 6,
   "id": "f0a96909-f4bd-4624-b11f-80c408632286",
   "metadata": {},
   "outputs": [
    {
     "name": "stderr",
     "output_type": "stream",
     "text": [
      "100%|███████████████████████████████████████████| 67/67 [02:07<00:00,  1.91s/it]\n"
     ]
    }
   ],
   "source": [
    "testdata = feature4(testdata)"
   ]
  },
  {
   "cell_type": "code",
   "execution_count": 13,
   "id": "91269dd0-8a33-476b-b491-a5a1612e09b6",
   "metadata": {},
   "outputs": [],
   "source": [
    "testdata = testdata.query('timestamp >= 1556861400')"
   ]
  },
  {
   "cell_type": "code",
   "execution_count": 14,
   "id": "2c4040fa-c2d1-4f6e-9ec5-6197895bb18c",
   "metadata": {},
   "outputs": [],
   "source": [
    "X_test = []\n",
    "for i in range(len(testdata)):\n",
    "    X_test.append([testdata['inp'].iloc[i].to_list()])\n",
    "X_test = np.array(X_test)\n",
    "y_test = testdata['counts'].to_numpy()"
   ]
  },
  {
   "cell_type": "code",
   "execution_count": 15,
   "id": "b1ae92bc-2ebe-4de7-8478-828f17a7966e",
   "metadata": {},
   "outputs": [],
   "source": [
    "# with open('X_test_lstm.npy', 'wb') as f:\n",
    "#     np.save(f, X_test, allow_pickle=True)\n",
    "# with open('y_test_lstm.npy', 'wb') as f:\n",
    "#     np.save(f, y_test, allow_pickle=True)"
   ]
  },
  {
   "cell_type": "code",
   "execution_count": 3,
   "id": "681ad871-e27a-4f9f-ab20-c9e41087bd46",
   "metadata": {},
   "outputs": [],
   "source": [
    "# with open('X_test.npy', 'rb') as f:\n",
    "#     X_test = np.load(f, allow_pickle=True)\n",
    "# with open('y_test.npy', 'rb') as f:\n",
    "#     y_test = np.load(f, allow_pickle=True)"
   ]
  },
  {
   "cell_type": "code",
   "execution_count": 3,
   "id": "44962c64-0582-4417-a483-c84aa040862d",
   "metadata": {},
   "outputs": [],
   "source": [
    "# with open('X_test_lstm.npy', 'rb') as f:\n",
    "#     X_test = np.load(f, allow_pickle=True)\n",
    "# with open('y_test_lstm.npy', 'rb') as f:\n",
    "#     y_test = np.load(f, allow_pickle=True)"
   ]
  },
  {
   "cell_type": "markdown",
   "id": "a9c62e4a-f7eb-4b00-8693-68f18810dae7",
   "metadata": {},
   "source": [
    "# Testing"
   ]
  },
  {
   "cell_type": "markdown",
   "id": "830a8edd-54ed-4fd2-8f41-f316f4f20cd5",
   "metadata": {},
   "source": [
    "Keep in mind that we have not done smoothing for the test data. So the performance on test data will certainly be worse than before.<p>\n",
    "The average of output avg(y_test) is 31.25"
   ]
  },
  {
   "cell_type": "markdown",
   "id": "6665090a-1056-498e-a3fc-59e48aa47002",
   "metadata": {},
   "source": [
    "## Linear Regression"
   ]
  },
  {
   "cell_type": "code",
   "execution_count": 4,
   "id": "f597282d-f75a-4d3a-bd20-1ef305e2d086",
   "metadata": {},
   "outputs": [],
   "source": [
    "lr_model = load('LinearRegression.joblib')"
   ]
  },
  {
   "cell_type": "code",
   "execution_count": 5,
   "id": "ccb28be7-5a2f-44f8-a0b6-08594af52f49",
   "metadata": {},
   "outputs": [],
   "source": [
    "y_pred_lr = lr_model.predict(X_test)"
   ]
  },
  {
   "cell_type": "code",
   "execution_count": 7,
   "id": "019de6c8-906a-4ef3-a413-73decb1c74f9",
   "metadata": {},
   "outputs": [
    {
     "data": {
      "text/plain": [
       "31.249874145624027"
      ]
     },
     "execution_count": 7,
     "metadata": {},
     "output_type": "execute_result"
    }
   ],
   "source": [
    "np.average(y_test)"
   ]
  },
  {
   "cell_type": "code",
   "execution_count": 8,
   "id": "1120f07b-48a3-4d89-8def-78dcc749a1da",
   "metadata": {},
   "outputs": [
    {
     "name": "stdout",
     "output_type": "stream",
     "text": [
      "MAE =>                    7.227731813183053\n",
      "MAE% =>                   0.23128834949868637\n",
      "R squared =>              0.9094240989153082\n",
      "RMSE =>                   11.84154255439212\n"
     ]
    }
   ],
   "source": [
    "print ('{:<25}'.format('MAE => '), mean_absolute_error(y_test, y_pred_lr))\n",
    "print ('{:<25}'.format('MAE% => '), mean_absolute_error(y_test, y_pred_lr)/np.average(y_test))\n",
    "print ('{:<25}'.format('R squared => '), r2_score(y_test, y_pred_lr))\n",
    "print ('{:<25}'.format('RMSE => '), mean_squared_error(y_test, y_pred_lr, squared=False))"
   ]
  },
  {
   "cell_type": "markdown",
   "id": "98e03cf0-254e-4ea4-ae11-90afef57f9f1",
   "metadata": {},
   "source": [
    "## XGBoost Regressor"
   ]
  },
  {
   "cell_type": "code",
   "execution_count": 9,
   "id": "981d5267-19d6-4ff4-ac1a-7a3afba9d63b",
   "metadata": {},
   "outputs": [],
   "source": [
    "xgb_model = load('XGBRegressor.joblib')"
   ]
  },
  {
   "cell_type": "code",
   "execution_count": 10,
   "id": "92c8fe1e-01b1-4a56-aba3-15617241cff5",
   "metadata": {},
   "outputs": [],
   "source": [
    "y_pred_xgb = xgb_model.predict(X_test)"
   ]
  },
  {
   "cell_type": "code",
   "execution_count": 11,
   "id": "8ee3c730-7f66-4195-8e8f-e2aa12ef5478",
   "metadata": {},
   "outputs": [
    {
     "data": {
      "text/plain": [
       "31.249874145624027"
      ]
     },
     "execution_count": 11,
     "metadata": {},
     "output_type": "execute_result"
    }
   ],
   "source": [
    "np.average(y_test)"
   ]
  },
  {
   "cell_type": "code",
   "execution_count": 12,
   "id": "17367511-fd22-4a18-8451-3c000e246760",
   "metadata": {},
   "outputs": [
    {
     "name": "stdout",
     "output_type": "stream",
     "text": [
      "MAE =>                    6.574487879610602\n",
      "MAE% =>                   0.21038445943729467\n",
      "R squared =>              0.9225697752186679\n",
      "RMSE =>                   10.948565185380145\n"
     ]
    }
   ],
   "source": [
    "print ('{:<25}'.format('MAE => '), mean_absolute_error(y_test, y_pred_xgb))\n",
    "print ('{:<25}'.format('MAE% => '), mean_absolute_error(y_test, y_pred_xgb)/np.average(y_test))\n",
    "print ('{:<25}'.format('R squared => '), r2_score(y_test, y_pred_xgb))\n",
    "print ('{:<25}'.format('RMSE => '), mean_squared_error(y_test, y_pred_xgb, squared=False))"
   ]
  },
  {
   "cell_type": "markdown",
   "id": "48a1de75-343e-4cd7-9946-765a765bad0c",
   "metadata": {},
   "source": [
    "## LSTM "
   ]
  },
  {
   "cell_type": "code",
   "execution_count": 6,
   "id": "c59e4549-d675-4c74-8421-c15aefa4a83a",
   "metadata": {},
   "outputs": [
    {
     "name": "stdout",
     "output_type": "stream",
     "text": [
      "WARNING:tensorflow:Layer lstm will not use cuDNN kernels since it doesn't meet the criteria. It will use a generic GPU kernel as fallback when running on GPU.\n",
      "WARNING:tensorflow:Layer lstm_1 will not use cuDNN kernels since it doesn't meet the criteria. It will use a generic GPU kernel as fallback when running on GPU.\n"
     ]
    }
   ],
   "source": [
    "lstm_model = keras.models.load_model('model.h5')"
   ]
  },
  {
   "cell_type": "code",
   "execution_count": 7,
   "id": "a7f975ce-6954-4630-9732-d4dd6e09ebad",
   "metadata": {},
   "outputs": [
    {
     "name": "stderr",
     "output_type": "stream",
     "text": [
      "2021-10-08 21:36:49.669100: W tensorflow/core/framework/cpu_allocator_impl.cc:80] Allocation of 1250059200 exceeds 10% of free system memory.\n",
      "2021-10-08 21:36:50.443780: W tensorflow/core/framework/cpu_allocator_impl.cc:80] Allocation of 1250059200 exceeds 10% of free system memory.\n",
      "2021-10-08 21:36:50.953808: I tensorflow/compiler/mlir/mlir_graph_optimization_pass.cc:185] None of the MLIR Optimization Passes are enabled (registered 2)\n"
     ]
    }
   ],
   "source": [
    "y_pred_lstm = lstm_model.predict(X_test)"
   ]
  },
  {
   "cell_type": "code",
   "execution_count": 8,
   "id": "5f5b925e-d131-4d07-b703-765c4ebab44d",
   "metadata": {},
   "outputs": [
    {
     "name": "stdout",
     "output_type": "stream",
     "text": [
      "MAE =>                    6.34815704342306\n",
      "MAE% =>                   0.2033560382199119\n",
      "R squared =>              0.92908681177385\n",
      "RMSE =>                   10.465103391641659\n"
     ]
    }
   ],
   "source": [
    "print ('{:<25}'.format('MAE => '), mean_absolute_error(y_test, y_pred_lstm))\n",
    "print ('{:<25}'.format('MAE% => '), mean_absolute_error(y_test, y_pred_lstm)/np.average(y_test))\n",
    "print ('{:<25}'.format('R squared => '), r2_score(y_test, y_pred_lstm))\n",
    "print ('{:<25}'.format('RMSE => '), mean_squared_error(y_test, y_pred_lstm, squared=False))"
   ]
  },
  {
   "cell_type": "markdown",
   "id": "0e8a069b-9946-48b1-b18d-0cfee4daab91",
   "metadata": {},
   "source": [
    "The performance is significantly worse than before. But surprisingly LSTM is performing better than the other two models. This means the LSTM based model is more robust and is generalizing better than the others."
   ]
  },
  {
   "cell_type": "markdown",
   "id": "25ae7bc1-d90e-488d-866f-e888e4371c4c",
   "metadata": {},
   "source": [
    "# Final Thoughts"
   ]
  },
  {
   "cell_type": "markdown",
   "id": "3b956cd7-f238-45ee-8e04-b50580f054fa",
   "metadata": {},
   "source": [
    "We could tweak more to get better performance. Maybe try without smoothing or can come up with some new features. Or we can try stacking different models.<p>\n",
    "Few interesting features that we could try are \"is holiday or special day\", \"weather type\", \"season\", \"day or night\", etc.<p>\n",
    "Note that I have not used the classical time series forecasting models like Holt-Winters or ARIMA. Because on their own they will not perform as well as the current models. However, we can certainly get benefits from them if we do stacking ensembling."
   ]
  },
  {
   "cell_type": "markdown",
   "id": "1edef3f6-7c9a-47b8-bbd2-07c7884ce47b",
   "metadata": {},
   "source": [
    "# References"
   ]
  },
  {
   "cell_type": "markdown",
   "id": "51d4524f-dab0-4806-94b8-54e70ac86601",
   "metadata": {},
   "source": [
    "1. NYC Taxi and Limousine Commission (TLC) [https://www1.nyc.gov/site/tlc/about/tlc-trip-record-data.page]\n",
    "2. Applied Roots [https://www.appliedroots.com/]"
   ]
  },
  {
   "cell_type": "code",
   "execution_count": null,
   "id": "4b3d22d8-7efa-4efc-b375-34ba4906ebf9",
   "metadata": {},
   "outputs": [],
   "source": []
  }
 ],
 "metadata": {
  "kernelspec": {
   "display_name": "Python 3 (ipykernel)",
   "language": "python",
   "name": "python3"
  },
  "language_info": {
   "codemirror_mode": {
    "name": "ipython",
    "version": 3
   },
   "file_extension": ".py",
   "mimetype": "text/x-python",
   "name": "python",
   "nbconvert_exporter": "python",
   "pygments_lexer": "ipython3",
   "version": "3.9.5"
  }
 },
 "nbformat": 4,
 "nbformat_minor": 5
}
